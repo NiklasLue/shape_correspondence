{
 "cells": [
  {
   "cell_type": "markdown",
   "metadata": {},
   "source": [
    "# Plot results"
   ]
  },
  {
   "cell_type": "code",
   "execution_count": null,
   "metadata": {},
   "outputs": [],
   "source": [
    "import numpy as np\n",
    "import meshplot as mp\n",
    "import matplotlib.pyplot as plt\n",
    "import torch\n",
    "from pyFM.mesh.trimesh import TriMesh\n",
    "from project.utils import get_rank\n",
    "from numpy.linalg import eig\n",
    "%matplotlib inline\n",
    "\n",
    "def plot_mesh(myMesh,cmap=None):\n",
    "    mp.plot(myMesh.vertlist, myMesh.facelist,c=cmap)\n",
    "    \n",
    "def double_plot(myMesh1,myMesh2,cmap1=None,cmap2=None):\n",
    "    d = mp.subplot(myMesh1.vertlist, myMesh1.facelist, c=cmap1, s=[2, 2, 0])\n",
    "    mp.subplot(myMesh2.vertlist, myMesh2.facelist, c=cmap2, s=[2, 2, 1], data=d)\n",
    "\n",
    "def visu(vertices):\n",
    "    min_coord,max_coord = np.min(vertices,axis=0,keepdims=True),np.max(vertices,axis=0,keepdims=True)\n",
    "    cmap = (vertices-min_coord)/(max_coord-min_coord)\n",
    "    return cmap\n",
    "\n",
    "def plot_p2p(mesh1, mesh2, p2p):\n",
    "    cmap1 = visu(mesh1.vertlist); cmap2 = cmap1[p2p]\n",
    "    double_plot(mesh1,mesh2,cmap1,cmap2)\n",
    "    "
   ]
  },
  {
   "cell_type": "code",
   "execution_count": null,
   "metadata": {},
   "outputs": [],
   "source": [
    "save_results_path = \"project/models/unsup.pth\"\n",
    "log = torch.load(save_results_path)"
   ]
  },
  {
   "cell_type": "code",
   "execution_count": null,
   "metadata": {},
   "outputs": [],
   "source": [
    "comb = 5\n",
    "res = log[comb]"
   ]
  },
  {
   "cell_type": "markdown",
   "metadata": {},
   "source": [
    "- res[0]: name of full shape (shape 1)\n",
    "- res[1]: name of partial shape (shape 2)\n",
    "- res[2]: predicted C1 (functional map from shape 1 to shape 2)\n",
    "- res[3]: predicted C2 (functional map from shape 2 to shape 1)\n",
    "- res[4]: ground truth C1\n",
    "- res[5]: ground truth C2\n",
    "- res[6]: ground truth partiality mask 1\n",
    "- res[7]: ground truth partiality mask 2\n",
    "- res[8]: predicted point-to-point map  (from partial to full shape)\n",
    "- res[9]: ground truth point-to-point map  \n",
    "- res[10]: eigenvalues of LBO on first shape\n",
    "- res[11]: eigenvalues of LBO on second shape"
   ]
  },
  {
   "cell_type": "markdown",
   "metadata": {},
   "source": [
    "# Calculate losses "
   ]
  },
  {
   "cell_type": "code",
   "execution_count": null,
   "metadata": {},
   "outputs": [],
   "source": [
    "comb = 5\n",
    "res = log[comb]\n",
    "C1_pred = res[2]\n",
    "C2_pred = res[3]\n",
    "C1_gt = res[4]\n",
    "C2_gt = res[5]\n",
    "evals1 = res[10]\n",
    "evals2 = res[11]"
   ]
  },
  {
   "cell_type": "code",
   "execution_count": null,
   "metadata": {},
   "outputs": [],
   "source": [
    "r = get_rank(evals1, evals2)\n",
    "I_r = torch.eye(len(evals1))\n",
    "for i in range(r,len(evals1)):\n",
    "    I_r[i,i] = 0\n",
    "r\n",
    "torch.sum((C1_gt @ C1_gt.t()- I_r) ** 2, axis=(0, 1))\n",
    "torch.sum((C1_pred @ C1_pred.t()- I_r) ** 2, axis=(0, 1))\n",
    "torch.sum((C1_gt @ C2_gt- I_r) ** 2, axis=(0, 1))\n",
    "torch.sum((C1_pred @ C2_pred- I_r) ** 2, axis=(0, 1))\n",
    "torch.sum((C2_gt.t() @ C2_gt- I_r) ** 2, axis=(0, 1))"
   ]
  },
  {
   "cell_type": "markdown",
   "metadata": {},
   "source": [
    "# Visualization via heatmaps"
   ]
  },
  {
   "cell_type": "code",
   "execution_count": null,
   "metadata": {},
   "outputs": [],
   "source": [
    "comb = 5\n",
    "res = log[comb]\n",
    "C1_pred = res[2]\n",
    "C2_pred = res[3]\n",
    "C1_gt = res[4]\n",
    "C2_gt = res[5]"
   ]
  },
  {
   "cell_type": "code",
   "execution_count": null,
   "metadata": {},
   "outputs": [],
   "source": [
    "plt.plot()\n",
    "plt.imshow( C2_pred.t() @ C2_pred)\n",
    "plt.title('Orthogonality of predicted C2')\n",
    "\n",
    "plt.subplots_adjust(bottom=0.1, right=0.8, top=0.9)\n",
    "cax = plt.axes([0.85, 0.1, 0.075, 0.8])\n",
    "plt.colorbar(cax=cax)\n",
    " \n",
    "plt.show()"
   ]
  },
  {
   "cell_type": "code",
   "execution_count": null,
   "metadata": {},
   "outputs": [],
   "source": [
    "plt.plot()\n",
    "plt.imshow( C1_pred @ C1_pred.t())\n",
    "plt.title('Orthogonality of predicted C1')\n",
    "\n",
    "plt.subplots_adjust(bottom=0.1, right=0.8, top=0.9)\n",
    "cax = plt.axes([0.85, 0.1, 0.075, 0.8])\n",
    "plt.colorbar(cax=cax)\n",
    " \n",
    "plt.show()"
   ]
  },
  {
   "cell_type": "code",
   "execution_count": null,
   "metadata": {},
   "outputs": [],
   "source": [
    "plt.plot()\n",
    "plt.imshow( C1_gt @ C1_gt.t())\n",
    "plt.title('Orthogonality of ground truth C1')\n",
    "\n",
    "plt.subplots_adjust(bottom=0.1, right=0.8, top=0.9)\n",
    "cax = plt.axes([0.85, 0.1, 0.075, 0.8])\n",
    "plt.colorbar(cax=cax)\n",
    " \n",
    "plt.show()"
   ]
  },
  {
   "cell_type": "code",
   "execution_count": null,
   "metadata": {},
   "outputs": [],
   "source": [
    "plt.plot()\n",
    "plt.imshow(C2_pred)\n",
    "plt.title('Predicted C2')\n",
    "\n",
    "plt.subplots_adjust(bottom=0.1, right=0.8, top=0.9)\n",
    "cax = plt.axes([0.85, 0.1, 0.075, 0.8])\n",
    "plt.colorbar(cax=cax)\n",
    " \n",
    "plt.show()"
   ]
  },
  {
   "cell_type": "code",
   "execution_count": null,
   "metadata": {},
   "outputs": [],
   "source": [
    "plt.plot()\n",
    "plt.imshow(C1_pred)\n",
    "plt.title('Predicted C1')\n",
    "\n",
    "plt.subplots_adjust(bottom=0.1, right=0.8, top=0.9)\n",
    "cax = plt.axes([0.85, 0.1, 0.075, 0.8])\n",
    "plt.colorbar(cax=cax)\n",
    " \n",
    "plt.show()"
   ]
  },
  {
   "cell_type": "code",
   "execution_count": null,
   "metadata": {},
   "outputs": [],
   "source": [
    "plt.plot()\n",
    "plt.imshow(C1_gt)\n",
    "plt.title('Ground truth C1')\n",
    "\n",
    "plt.subplots_adjust(bottom=0.1, right=0.8, top=0.9)\n",
    "cax = plt.axes([0.85, 0.1, 0.075, 0.8])\n",
    "plt.colorbar(cax=cax)\n",
    " \n",
    "plt.show()"
   ]
  },
  {
   "cell_type": "markdown",
   "metadata": {},
   "source": [
    "# Plot eigenvalues of $C_1$ and $C_2$"
   ]
  },
  {
   "cell_type": "code",
   "execution_count": null,
   "metadata": {},
   "outputs": [],
   "source": [
    "eigval1, _ = np.linalg.eig(C1_pred)\n",
    "eigval2, _ = np.linalg.eig(C2_pred)\n",
    "x = range(1,len(eigval1[::2])+1)\n",
    "# y-axis values \n",
    "y = np.real(eigval1[::2]) # np.abs(eigval1[::2])\n",
    "z = np.real(eigval2[::2]) # np.abs(eigval2[::2])\n",
    "# plotting points as a scatter plot \n",
    "plt.scatter(x, y, label= \"C1\", color= \"green\", s=30) \n",
    "plt.scatter(x, z, label= \"C2\", color= \"blue\", s=30)  \n",
    "# x-axis label \n",
    "plt.xlabel('number of eigenvalue') \n",
    "# frequency label \n",
    "plt.ylabel('real value') \n",
    "# plot title \n",
    "plt.title('Real value of eigenvalues of C1 and C2') \n",
    "# showing legend \n",
    "plt.legend() \n",
    "  \n",
    "# function to show the plot \n",
    "plt.show() "
   ]
  },
  {
   "cell_type": "markdown",
   "metadata": {},
   "source": [
    "# $C_2$ Orthogonality compared to rank"
   ]
  },
  {
   "cell_type": "code",
   "execution_count": null,
   "metadata": {},
   "outputs": [],
   "source": [
    "a = np.empty(len(log))\n",
    "b = np.empty(len(log))\n",
    "for i in range(len(log)):\n",
    "    res = log[i]\n",
    "    evals1 = res[10]\n",
    "    evals2 = res[11]\n",
    "    C2_pred = res[3]\n",
    "    r = get_rank(evals1, evals2)\n",
    "    for j in range(r,len(evals1)):\n",
    "        I_r[j,j] = 0\n",
    "    a[i] = r\n",
    "    b[i] = torch.sum((C2_pred.t() @ C2_pred- I_r) ** 2, axis=(0, 1))\n",
    "a, b = (list(x) for x in zip(*sorted(zip(a, b))))"
   ]
  },
  {
   "cell_type": "code",
   "execution_count": null,
   "metadata": {},
   "outputs": [],
   "source": [
    "x = range(len(a))\n",
    "# y-axis values \n",
    "y = a\n",
    "# plotting points as a scatter plot \n",
    "plt.scatter(x, y, color= \"green\", s=30) \n",
    "# x-axis label \n",
    "  \n",
    "# function to show the plot \n",
    "plt.show() "
   ]
  },
  {
   "cell_type": "code",
   "execution_count": null,
   "metadata": {},
   "outputs": [],
   "source": [
    "x = range(len(b))\n",
    "# y-axis values \n",
    "y = b\n",
    "\n",
    "# Initialize layout\n",
    "\n",
    "fig, ax = plt.subplots(figsize = (6,4))\n",
    "ax.scatter(x, y, color= \"green\", s=30)\n",
    "\n",
    "# Set logarithmic scale on the y variable\n",
    "ax.set_yscale(\"log\");"
   ]
  }
 ],
 "metadata": {
  "accelerator": "GPU",
  "colab": {
   "collapsed_sections": [],
   "name": "test.ipynb",
   "provenance": []
  },
  "interpreter": {
   "hash": "e956ee7660bdd64c6d0f8ca0a4d1ec0d49840f6dce9aa7b6de62a1b26319698c"
  },
  "kernelspec": {
   "display_name": "Python 3 (ipykernel)",
   "language": "python",
   "name": "python3"
  },
  "language_info": {
   "codemirror_mode": {
    "name": "ipython",
    "version": 3
   },
   "file_extension": ".py",
   "mimetype": "text/x-python",
   "name": "python",
   "nbconvert_exporter": "python",
   "pygments_lexer": "ipython3",
   "version": "3.9.12"
  }
 },
 "nbformat": 4,
 "nbformat_minor": 1
}
