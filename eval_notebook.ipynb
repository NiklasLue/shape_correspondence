{
 "cells": [
  {
   "cell_type": "markdown",
   "metadata": {},
   "source": [
    "## Setup"
   ]
  },
  {
   "cell_type": "code",
   "execution_count": 66,
   "metadata": {},
   "outputs": [],
   "source": [
    "import yaml\n",
    "from pathlib import Path\n",
    "\n",
    "import torch\n",
    "import numpy as np\n",
    "\n",
    "import pyFM\n",
    "from project.datasets import Tosca\n",
    "from project.train_dpfm import train_net\n",
    "from project.eval_dpfm import eval_net"
   ]
  },
  {
   "cell_type": "code",
   "execution_count": 172,
   "metadata": {},
   "outputs": [],
   "source": [
    "data_path = \"../..\"\n",
    "cfg = yaml.safe_load(open(f\"dpfm/config/tosca_cuts.yaml\", \"r\"))\n",
    "cfg[\"dataset\"][\"root_train\"] = cfg[\"dataset\"][\"root_train\"].replace(\"{{ABS_PATH}}\", data_path)\n",
    "cfg[\"dataset\"][\"root_test\"] = cfg[\"dataset\"][\"root_test\"].replace(\"{{ABS_PATH}}\", data_path)\n",
    "cfg[\"dataset\"][\"cache_dir\"] = cfg[\"dataset\"][\"cache_dir\"].replace(\"{{ABS_PATH}}\", data_path)"
   ]
  },
  {
   "cell_type": "code",
   "execution_count": 164,
   "metadata": {},
   "outputs": [],
   "source": [
    "import numpy as np\n",
    "import meshplot as mp\n",
    "import matplotlib.pyplot as plt\n",
    "%matplotlib inline\n",
    "\n",
    "def plot_mesh(myMesh,cmap=None):\n",
    "    mp.plot(myMesh.vertlist, myMesh.facelist,c=cmap)\n",
    "    \n",
    "def double_plot(myMesh1,myMesh2,cmap1=None,cmap2=None):\n",
    "    d = mp.subplot(myMesh1.vertlist, myMesh1.facelist, c=cmap1, s=[2, 2, 0])\n",
    "    mp.subplot(myMesh2.vertlist, myMesh2.facelist, c=cmap2, s=[2, 2, 1], data=d)\n",
    "\n",
    "def visu(vertices):\n",
    "    min_coord,max_coord = np.min(vertices,axis=0,keepdims=True),np.max(vertices,axis=0,keepdims=True)\n",
    "    cmap = (vertices-min_coord)/(max_coord-min_coord)\n",
    "    return cmap\n",
    "\n",
    "def plot_p2p(mesh1, mesh2, p2p):\n",
    "    cmap1 = visu(mesh1.vertlist); cmap2 = cmap1[p2p]\n",
    "    double_plot(mesh1,mesh2,cmap1,cmap2)\n",
    "\n",
    "def plot_geod_err(dist_dict, save_dir=None):\n",
    "    for name, dist in dist_dict.items():\n",
    "        N = len(dist)\n",
    "        # sort the data in ascending order\n",
    "        x = np.sort(dist)\n",
    "        # get the cdf values of y\n",
    "        y = np.arange(N) / float(N)\n",
    "        plt.plot(x, y, label=name)\n",
    "    plt.legend()\n",
    "    plt.xlim([0.0, 0.06])\n",
    "    plt.title(\"Comparison of different methods\")\n",
    "    plt.xlabel(\"Geodesic error\")\n",
    "    plt.ylabel(\"% of correspondences\")\n",
    "    if save_dir:\n",
    "        plt.savefig(save_dir)"
   ]
  },
  {
   "cell_type": "code",
   "execution_count": 29,
   "metadata": {},
   "outputs": [
    {
     "name": "stdout",
     "output_type": "stream",
     "text": [
      "using dataset cache path: ../../data/SGP_dataset_off/test_full/cache_cuts_train.pt\n",
      "  --> loading dataset from cache\n"
     ]
    }
   ],
   "source": [
    "test_dataset = Tosca(cfg[\"dataset\"][\"root_test\"], name=cfg[\"dataset\"][\"subset\"], k_eig=cfg[\"fmap\"][\"k_eig\"],\n",
    "                                           n_fmap=cfg[\"fmap\"][\"n_fmap\"], use_cache=True, op_cache_dir=cfg[\"dataset\"][\"cache_dir\"], use_adj=True)"
   ]
  },
  {
   "cell_type": "code",
   "execution_count": 72,
   "metadata": {},
   "outputs": [
    {
     "name": "stdout",
     "output_type": "stream",
     "text": [
      "using dataset cache path: ../../data/SGP_dataset_off/test_dev/cache_cuts_train.pt\n",
      "  --> loading dataset from cache\n"
     ]
    }
   ],
   "source": [
    "test_dev_dataset = Tosca('../../data/SGP_dataset_off/test_dev', name=cfg[\"dataset\"][\"subset\"], k_eig=cfg[\"fmap\"][\"k_eig\"],\n",
    "                                           n_fmap=cfg[\"fmap\"][\"n_fmap\"], use_cache=True, op_cache_dir=cfg[\"dataset\"][\"cache_dir\"], use_adj=True)"
   ]
  },
  {
   "cell_type": "markdown",
   "metadata": {},
   "source": [
    "# Evaluation of models"
   ]
  },
  {
   "cell_type": "markdown",
   "metadata": {},
   "source": [
    "There are two methods of evaluating the results of a model.\n",
    "1. Use the files generated during the evaluation run, which are saved in the given path\n",
    "2. Set the return arguments of the evaluation functions 'run_eval' to true and use the return values"
   ]
  },
  {
   "cell_type": "markdown",
   "metadata": {},
   "source": [
    "##  1. Method: Load saved evaluation files"
   ]
  },
  {
   "cell_type": "markdown",
   "metadata": {},
   "source": [
    "The first shorthand in the file name (fm/cfm) shows, whether the descriptors were evaluated with functional maps or coupled functional maps.\n",
    "The second shorthand shows the model that was used:\n",
    "- base: pretrained Shrec model\n",
    "- dpfm: standart DPFM model trained on TOSCA data\n",
    "- pt: DPFM model trained on TOSCA, but the overlap predictor and cross attention layers were initialized with the pretrained Shrec model\n",
    "- dpcfm: DPCFM model trainedd on TOSCA"
   ]
  },
  {
   "cell_type": "code",
   "execution_count": 179,
   "metadata": {},
   "outputs": [],
   "source": [
    "folder_path = Path(\"data/eval\")\n",
    "\n",
    "fm_base_file_path = folder_path / \"fm_base.pt\"\n",
    "cfm_base_file_path = folder_path / \"cfm_base.pt\"\n",
    "fm_pt_file_path = folder_path / \"fm_pt.pt\"\n",
    "cfm_pt_file_path = folder_path / \"cfm_pt.pt\"\n",
    "fm_dpfm_file_path = folder_path / \"fm_dpfm.pt\"\n",
    "cfm_dpfm_file_path = folder_path / \"cfm_dpfm.pt\"\n",
    "fm_dpcfm_file_path = folder_path / \"fm_dpcfm.pt\"\n",
    "cfm_dpcfm_file_path = folder_path / \"cfm_dpcfm.pt\"\n",
    "\n",
    "fm_base_eval = torch.load(fm_base_file_path)\n",
    "cfm_base_eval = torch.load(cfm_base_file_path)\n",
    "fm_pt_eval = torch.load(fm_pt_file_path)\n",
    "cfm_pt_eval = torch.load(cfm_pt_file_path)\n",
    "fm_dpfm_eval = torch.load(fm_dpfm_file_path)\n",
    "cfm_dpfm_eval = torch.load(cfm_dpfm_file_path)\n",
    "fm_dpcfm_eval = torch.load(fm_dpcfm_file_path)\n",
    "cfm_dpcfm_eval = torch.load(cfm_dpcfm_file_path)"
   ]
  },
  {
   "cell_type": "markdown",
   "metadata": {},
   "source": [
    "### Example"
   ]
  },
  {
   "cell_type": "code",
   "execution_count": 60,
   "metadata": {},
   "outputs": [],
   "source": [
    "i = 1"
   ]
  },
  {
   "cell_type": "code",
   "execution_count": 61,
   "metadata": {},
   "outputs": [],
   "source": [
    "fm_log_obj = fm_base_eval[\"log_obj\"][i]\n",
    "cfm_log_obj = cfm_base_eval[\"log_obj\"][i]\n",
    "data = test_dataset[i]"
   ]
  },
  {
   "cell_type": "code",
   "execution_count": 64,
   "metadata": {},
   "outputs": [
    {
     "data": {
      "application/vnd.jupyter.widget-view+json": {
       "model_id": "c97429e4b24b4caa8aaa087e3cec49c5",
       "version_major": 2,
       "version_minor": 0
      },
      "text/plain": [
       "HBox(children=(Output(), Output()))"
      ]
     },
     "metadata": {},
     "output_type": "display_data"
    },
    {
     "data": {
      "application/vnd.jupyter.widget-view+json": {
       "model_id": "1f0c8e3340a942fea05480163497d2ba",
       "version_major": 2,
       "version_minor": 0
      },
      "text/plain": [
       "HBox(children=(Output(), Output()))"
      ]
     },
     "metadata": {},
     "output_type": "display_data"
    }
   ],
   "source": [
    "plot_p2p(data[\"shape1\"][\"mesh\"], data[\"shape2\"][\"mesh\"], fm_log_obj[5])"
   ]
  },
  {
   "cell_type": "code",
   "execution_count": 65,
   "metadata": {},
   "outputs": [
    {
     "data": {
      "application/vnd.jupyter.widget-view+json": {
       "model_id": "f27447de91254a4dab95297e067f9c4a",
       "version_major": 2,
       "version_minor": 0
      },
      "text/plain": [
       "  0%|          | 0/10000 [00:00<?, ?it/s]"
      ]
     },
     "metadata": {},
     "output_type": "display_data"
    }
   ],
   "source": [
    "A_geod = data[\"shape1\"][\"mesh\"].get_geodesic(verbose=True)"
   ]
  },
  {
   "cell_type": "code",
   "execution_count": 67,
   "metadata": {},
   "outputs": [],
   "source": [
    "acc = pyFM.eval.accuracy(fm_log_obj[5], fm_log_obj[6], A_geod, sqrt_area=data[\"shape1\"][\"mesh\"].sqrtarea)"
   ]
  },
  {
   "cell_type": "code",
   "execution_count": 69,
   "metadata": {},
   "outputs": [
    {
     "data": {
      "text/plain": [
       "0.5613517385790701"
      ]
     },
     "execution_count": 69,
     "metadata": {},
     "output_type": "execute_result"
    }
   ],
   "source": [
    "acc"
   ]
  },
  {
   "cell_type": "markdown",
   "metadata": {},
   "source": [
    "## 2. Method: Evaluate networks"
   ]
  },
  {
   "cell_type": "code",
   "execution_count": 174,
   "metadata": {},
   "outputs": [],
   "source": [
    "cfg[\"dataset\"][\"root_test\"] = '../../data/SGP_dataset_off/test_dev'"
   ]
  },
  {
   "cell_type": "code",
   "execution_count": 106,
   "metadata": {
    "scrolled": true
   },
   "outputs": [
    {
     "name": "stdout",
     "output_type": "stream",
     "text": [
      "Starting evaluation...\n",
      "Using device cpu\n",
      "Loading data...\n",
      "using dataset cache path: ../../data/SGP_dataset_off/test_dev/cache_cuts_train.pt\n",
      "  --> loading dataset from cache\n",
      "Loading model...\n",
      "Starting inference...\n"
     ]
    },
    {
     "name": "stderr",
     "output_type": "stream",
     "text": [
      "100%|███████████████████████████████████████████████████████████████████████████████████████████████████████████████████████| 6/6 [03:27<00:00, 34.62s/it]\n"
     ]
    },
    {
     "name": "stdout",
     "output_type": "stream",
     "text": [
      "Mean normalized geodesic error: 0.02577751704120111\n"
     ]
    }
   ],
   "source": [
    "p2p_fm_pt, distances_fm_pt = eval_net(cfg, \"project/models/dpfm_pt.pth\", \"data/eval/fm_pt.pt\", return_pred_p2p=True, return_dist=True, mode=\"FM\")"
   ]
  },
  {
   "cell_type": "code",
   "execution_count": 175,
   "metadata": {},
   "outputs": [
    {
     "name": "stdout",
     "output_type": "stream",
     "text": [
      "Starting evaluation...\n",
      "Using device cpu\n",
      "Loading data...\n",
      "using dataset cache path: ../../data/SGP_dataset_off/test_dev/cache_cuts_train.pt\n",
      "  --> loading dataset from cache\n",
      "Loading model...\n",
      "Starting inference...\n"
     ]
    },
    {
     "name": "stderr",
     "output_type": "stream",
     "text": [
      "\r",
      "  0%|                                                                                                                               | 0/6 [00:00<?, ?it/s]"
     ]
    },
    {
     "name": "stdout",
     "output_type": "stream",
     "text": [
      "nit:7703\n"
     ]
    },
    {
     "name": "stderr",
     "output_type": "stream",
     "text": [
      "\r",
      " 17%|███████████████████▊                                                                                                   | 1/6 [00:55<04:38, 55.67s/it]"
     ]
    },
    {
     "name": "stdout",
     "output_type": "stream",
     "text": [
      "nit:9590\n"
     ]
    },
    {
     "name": "stderr",
     "output_type": "stream",
     "text": [
      "\r",
      " 33%|███████████████████████████████████████▋                                                                               | 2/6 [01:52<03:44, 56.18s/it]"
     ]
    },
    {
     "name": "stdout",
     "output_type": "stream",
     "text": [
      "nit:7252\n"
     ]
    },
    {
     "name": "stderr",
     "output_type": "stream",
     "text": [
      "\r",
      " 50%|███████████████████████████████████████████████████████████▌                                                           | 3/6 [02:43<02:41, 53.74s/it]"
     ]
    },
    {
     "name": "stdout",
     "output_type": "stream",
     "text": [
      "nit:2069\n"
     ]
    },
    {
     "name": "stderr",
     "output_type": "stream",
     "text": [
      "\r",
      " 67%|███████████████████████████████████████████████████████████████████████████████▎                                       | 4/6 [03:28<01:40, 50.48s/it]"
     ]
    },
    {
     "name": "stdout",
     "output_type": "stream",
     "text": [
      "nit:6338\n"
     ]
    },
    {
     "name": "stderr",
     "output_type": "stream",
     "text": [
      "\r",
      " 83%|███████████████████████████████████████████████████████████████████████████████████████████████████▏                   | 5/6 [04:19<00:50, 50.53s/it]"
     ]
    },
    {
     "name": "stdout",
     "output_type": "stream",
     "text": [
      "nit:8132\n"
     ]
    },
    {
     "name": "stderr",
     "output_type": "stream",
     "text": [
      "100%|███████████████████████████████████████████████████████████████████████████████████████████████████████████████████████| 6/6 [05:09<00:00, 51.64s/it]\n"
     ]
    },
    {
     "name": "stdout",
     "output_type": "stream",
     "text": [
      "Mean normalized geodesic error: 0.024909314934781292\n"
     ]
    }
   ],
   "source": [
    "p2p_cfm_pt, distances_cfm_pt = eval_net(cfg, \"project/models/dpfm_pt.pth\", \"data/eval/cfm_pt.pt\", return_pred_p2p=True, return_dist=True, mode=\"CFM\")"
   ]
  },
  {
   "cell_type": "code",
   "execution_count": 90,
   "metadata": {},
   "outputs": [
    {
     "data": {
      "application/vnd.jupyter.widget-view+json": {
       "model_id": "138b8436f3544ab7b64b9c5570f5b604",
       "version_major": 2,
       "version_minor": 0
      },
      "text/plain": [
       "HBox(children=(Output(), Output()))"
      ]
     },
     "metadata": {},
     "output_type": "display_data"
    },
    {
     "data": {
      "application/vnd.jupyter.widget-view+json": {
       "model_id": "5b83d6b896c8484c8a5d3697b60b8152",
       "version_major": 2,
       "version_minor": 0
      },
      "text/plain": [
       "HBox(children=(Output(), Output()))"
      ]
     },
     "metadata": {},
     "output_type": "display_data"
    }
   ],
   "source": [
    "i=5\n",
    "plot_p2p(p2p_fm_pt[i][\"mesh1\"], p2p_fm_pt[i][\"mesh2\"], p2p_fm_pt[i][\"p2p\"])"
   ]
  },
  {
   "cell_type": "code",
   "execution_count": 176,
   "metadata": {},
   "outputs": [
    {
     "name": "stdout",
     "output_type": "stream",
     "text": [
      "Starting evaluation...\n",
      "Using device cpu\n",
      "Loading data...\n",
      "using dataset cache path: ../../data/SGP_dataset_off/test_dev/cache_cuts_train.pt\n",
      "  --> loading dataset from cache\n",
      "Loading model...\n",
      "Starting inference...\n"
     ]
    },
    {
     "name": "stderr",
     "output_type": "stream",
     "text": [
      "\r",
      "  0%|                                                                                                                               | 0/6 [00:00<?, ?it/s]"
     ]
    },
    {
     "name": "stdout",
     "output_type": "stream",
     "text": [
      "nit:3314\n"
     ]
    },
    {
     "name": "stderr",
     "output_type": "stream",
     "text": [
      "\r",
      " 17%|███████████████████▊                                                                                                   | 1/6 [00:41<03:28, 41.72s/it]"
     ]
    },
    {
     "name": "stdout",
     "output_type": "stream",
     "text": [
      "nit:12092\n"
     ]
    },
    {
     "name": "stderr",
     "output_type": "stream",
     "text": [
      "\r",
      " 33%|███████████████████████████████████████▋                                                                               | 2/6 [01:49<03:47, 56.81s/it]"
     ]
    },
    {
     "name": "stdout",
     "output_type": "stream",
     "text": [
      "nit:3022\n"
     ]
    },
    {
     "name": "stderr",
     "output_type": "stream",
     "text": [
      "\r",
      " 50%|███████████████████████████████████████████████████████████▌                                                           | 3/6 [02:37<02:39, 53.00s/it]"
     ]
    },
    {
     "name": "stdout",
     "output_type": "stream",
     "text": [
      "nit:2193\n"
     ]
    },
    {
     "name": "stderr",
     "output_type": "stream",
     "text": [
      "\r",
      " 67%|███████████████████████████████████████████████████████████████████████████████▎                                       | 4/6 [03:17<01:35, 47.68s/it]"
     ]
    },
    {
     "name": "stdout",
     "output_type": "stream",
     "text": [
      "nit:8834\n"
     ]
    },
    {
     "name": "stderr",
     "output_type": "stream",
     "text": [
      "\r",
      " 83%|███████████████████████████████████████████████████████████████████████████████████████████████████▏                   | 5/6 [04:14<00:51, 51.25s/it]"
     ]
    },
    {
     "name": "stdout",
     "output_type": "stream",
     "text": [
      "nit:4022\n"
     ]
    },
    {
     "name": "stderr",
     "output_type": "stream",
     "text": [
      "100%|███████████████████████████████████████████████████████████████████████████████████████████████████████████████████████| 6/6 [04:52<00:00, 48.72s/it]\n"
     ]
    },
    {
     "name": "stdout",
     "output_type": "stream",
     "text": [
      "Mean normalized geodesic error: 0.028143958880872327\n"
     ]
    }
   ],
   "source": [
    "p2p_cfm_dpcfm, distances_cfm_dpcfm = eval_net(cfg, \"project/models/dpcfm.pth\", \"data/eval/cfm_dpcfm.pt\", return_pred_p2p=True, return_dist=True, mode=\"CFM\")"
   ]
  },
  {
   "cell_type": "code",
   "execution_count": 109,
   "metadata": {},
   "outputs": [
    {
     "name": "stdout",
     "output_type": "stream",
     "text": [
      "Starting evaluation...\n",
      "Using device cpu\n",
      "Loading data...\n",
      "using dataset cache path: ../../data/SGP_dataset_off/test_dev/cache_cuts_train.pt\n",
      "  --> loading dataset from cache\n",
      "Loading model...\n",
      "Starting inference...\n"
     ]
    },
    {
     "name": "stderr",
     "output_type": "stream",
     "text": [
      "100%|███████████████████████████████████████████████████████████████████████████████████████████████████████████████████████| 6/6 [03:23<00:00, 33.84s/it]\n"
     ]
    },
    {
     "name": "stdout",
     "output_type": "stream",
     "text": [
      "Mean normalized geodesic error: 0.018031737062125144\n"
     ]
    }
   ],
   "source": [
    "p2p_fm_dpcfm, distances_fm_dpcfm = eval_net(cfg, \"project/models/dpcfm.pth\", \"data/eval/fm_dpcfm.pt\", return_pred_p2p=True, return_dist=True, mode=\"FM\")"
   ]
  },
  {
   "cell_type": "code",
   "execution_count": 92,
   "metadata": {
    "scrolled": false
   },
   "outputs": [
    {
     "name": "stderr",
     "output_type": "stream",
     "text": [
      "/opt/anaconda3/envs/shape_correspondence/lib/python3.9/site-packages/jupyter_client/session.py:716: UserWarning: Message serialization failed with:\n",
      "Out of range float values are not JSON compliant\n",
      "Supporting this message is deprecated in jupyter-client 7, please make sure your message is JSON-compliant\n",
      "  content = self.pack(content)\n"
     ]
    },
    {
     "data": {
      "application/vnd.jupyter.widget-view+json": {
       "model_id": "746df0405eee462db57171270a06876f",
       "version_major": 2,
       "version_minor": 0
      },
      "text/plain": [
       "HBox(children=(Output(), Output()))"
      ]
     },
     "metadata": {},
     "output_type": "display_data"
    },
    {
     "data": {
      "application/vnd.jupyter.widget-view+json": {
       "model_id": "c64a0c1c9b6344cab13b5e37be085b7e",
       "version_major": 2,
       "version_minor": 0
      },
      "text/plain": [
       "HBox(children=(Output(), Output()))"
      ]
     },
     "metadata": {},
     "output_type": "display_data"
    }
   ],
   "source": [
    "i=5\n",
    "plot_p2p(p2p_fm_dpcfm[i][\"mesh1\"], p2p_fm_dpcfm[i][\"mesh2\"], p2p_fm_dpcfm[i][\"p2p\"])"
   ]
  },
  {
   "cell_type": "code",
   "execution_count": 110,
   "metadata": {},
   "outputs": [
    {
     "name": "stdout",
     "output_type": "stream",
     "text": [
      "Starting evaluation...\n",
      "Using device cpu\n",
      "Loading data...\n",
      "using dataset cache path: ../../data/SGP_dataset_off/test_dev/cache_cuts_train.pt\n",
      "  --> loading dataset from cache\n",
      "Loading model...\n",
      "Starting inference...\n"
     ]
    },
    {
     "name": "stderr",
     "output_type": "stream",
     "text": [
      "100%|███████████████████████████████████████████████████████████████████████████████████████████████████████████████████████| 6/6 [03:15<00:00, 32.55s/it]\n"
     ]
    },
    {
     "name": "stdout",
     "output_type": "stream",
     "text": [
      "Mean normalized geodesic error: 0.015997255936707994\n"
     ]
    }
   ],
   "source": [
    "p2p_fm_dpfm, distances_fm_dpfm = eval_net(cfg, \"project/models/dpfm.pth\", \"data/eval/fm_dpfm.pt\", return_pred_p2p=True, return_dist=True, mode=\"FM\")"
   ]
  },
  {
   "cell_type": "code",
   "execution_count": 177,
   "metadata": {},
   "outputs": [
    {
     "name": "stdout",
     "output_type": "stream",
     "text": [
      "Starting evaluation...\n",
      "Using device cpu\n",
      "Loading data...\n",
      "using dataset cache path: ../../data/SGP_dataset_off/test_dev/cache_cuts_train.pt\n",
      "  --> loading dataset from cache\n",
      "Loading model...\n",
      "Starting inference...\n"
     ]
    },
    {
     "name": "stderr",
     "output_type": "stream",
     "text": [
      "\r",
      "  0%|                                                                                                                               | 0/6 [00:00<?, ?it/s]"
     ]
    },
    {
     "name": "stdout",
     "output_type": "stream",
     "text": [
      "nit:4731\n"
     ]
    },
    {
     "name": "stderr",
     "output_type": "stream",
     "text": [
      "\r",
      " 17%|███████████████████▊                                                                                                   | 1/6 [00:46<03:54, 46.87s/it]"
     ]
    },
    {
     "name": "stdout",
     "output_type": "stream",
     "text": [
      "nit:6266\n"
     ]
    },
    {
     "name": "stderr",
     "output_type": "stream",
     "text": [
      "\r",
      " 33%|███████████████████████████████████████▋                                                                               | 2/6 [01:35<03:11, 47.90s/it]"
     ]
    },
    {
     "name": "stdout",
     "output_type": "stream",
     "text": [
      "nit:2537\n"
     ]
    },
    {
     "name": "stderr",
     "output_type": "stream",
     "text": [
      "\r",
      " 50%|███████████████████████████████████████████████████████████▌                                                           | 3/6 [02:18<02:16, 45.57s/it]"
     ]
    },
    {
     "name": "stdout",
     "output_type": "stream",
     "text": [
      "nit:1829\n"
     ]
    },
    {
     "name": "stderr",
     "output_type": "stream",
     "text": [
      "\r",
      " 67%|███████████████████████████████████████████████████████████████████████████████▎                                       | 4/6 [02:52<01:22, 41.23s/it]"
     ]
    },
    {
     "name": "stdout",
     "output_type": "stream",
     "text": [
      "nit:4914\n"
     ]
    },
    {
     "name": "stderr",
     "output_type": "stream",
     "text": [
      "\r",
      " 83%|███████████████████████████████████████████████████████████████████████████████████████████████████▏                   | 5/6 [03:37<00:42, 42.41s/it]"
     ]
    },
    {
     "name": "stdout",
     "output_type": "stream",
     "text": [
      "nit:3136\n"
     ]
    },
    {
     "name": "stderr",
     "output_type": "stream",
     "text": [
      "100%|███████████████████████████████████████████████████████████████████████████████████████████████████████████████████████| 6/6 [04:22<00:00, 43.76s/it]\n"
     ]
    },
    {
     "name": "stdout",
     "output_type": "stream",
     "text": [
      "Mean normalized geodesic error: 0.017627504884188756\n"
     ]
    }
   ],
   "source": [
    "p2p_cfm_dpfm, distances_cfm_dpfm = eval_net(cfg, \"project/models/dpfm.pth\", \"data/eval/cfm_dpfm.pt\", return_pred_p2p=True, return_dist=True, mode=\"CFM\")"
   ]
  },
  {
   "cell_type": "code",
   "execution_count": 112,
   "metadata": {
    "scrolled": true
   },
   "outputs": [
    {
     "name": "stdout",
     "output_type": "stream",
     "text": [
      "Starting evaluation...\n",
      "Using device cpu\n",
      "Loading data...\n",
      "using dataset cache path: ../../data/SGP_dataset_off/test_dev/cache_cuts_train.pt\n",
      "  --> loading dataset from cache\n",
      "Loading model...\n",
      "Starting inference...\n"
     ]
    },
    {
     "name": "stderr",
     "output_type": "stream",
     "text": [
      "100%|███████████████████████████████████████████████████████████████████████████████████████████████████████████████████████| 6/6 [03:34<00:00, 35.83s/it]\n"
     ]
    },
    {
     "name": "stdout",
     "output_type": "stream",
     "text": [
      "Mean normalized geodesic error: 0.26372879629866147\n"
     ]
    }
   ],
   "source": [
    "p2p_fm_base, distances_fm_base = eval_net(cfg, \"project/data/shrec_pretrained_model/shrec_cuts.pth\", \"data/eval/fm_base.pt\", return_pred_p2p=True, return_dist=True, mode=\"FM\")"
   ]
  },
  {
   "cell_type": "code",
   "execution_count": 178,
   "metadata": {},
   "outputs": [
    {
     "name": "stdout",
     "output_type": "stream",
     "text": [
      "Starting evaluation...\n",
      "Using device cpu\n",
      "Loading data...\n",
      "using dataset cache path: ../../data/SGP_dataset_off/test_dev/cache_cuts_train.pt\n",
      "  --> loading dataset from cache\n",
      "Loading model...\n",
      "Starting inference...\n"
     ]
    },
    {
     "name": "stderr",
     "output_type": "stream",
     "text": [
      "\r",
      "  0%|                                                                                                                               | 0/6 [00:00<?, ?it/s]"
     ]
    },
    {
     "name": "stdout",
     "output_type": "stream",
     "text": [
      "nit:13769\n"
     ]
    },
    {
     "name": "stderr",
     "output_type": "stream",
     "text": [
      "\r",
      " 17%|███████████████████▊                                                                                                   | 1/6 [01:24<07:01, 84.32s/it]"
     ]
    },
    {
     "name": "stdout",
     "output_type": "stream",
     "text": [
      "nit:14118\n"
     ]
    },
    {
     "name": "stderr",
     "output_type": "stream",
     "text": [
      "\r",
      " 33%|███████████████████████████████████████▋                                                                               | 2/6 [02:37<05:11, 77.92s/it]"
     ]
    },
    {
     "name": "stdout",
     "output_type": "stream",
     "text": [
      "nit:14123\n"
     ]
    },
    {
     "name": "stderr",
     "output_type": "stream",
     "text": [
      "\r",
      " 50%|███████████████████████████████████████████████████████████▌                                                           | 3/6 [04:06<04:08, 82.81s/it]"
     ]
    },
    {
     "name": "stdout",
     "output_type": "stream",
     "text": [
      "nit:5416\n"
     ]
    },
    {
     "name": "stderr",
     "output_type": "stream",
     "text": [
      "\r",
      " 67%|███████████████████████████████████████████████████████████████████████████████▎                                       | 4/6 [05:00<02:23, 71.60s/it]"
     ]
    },
    {
     "name": "stdout",
     "output_type": "stream",
     "text": [
      "nit:14056\n"
     ]
    },
    {
     "name": "stderr",
     "output_type": "stream",
     "text": [
      "\r",
      " 83%|███████████████████████████████████████████████████████████████████████████████████████████████████▏                   | 5/6 [06:06<01:09, 69.48s/it]"
     ]
    },
    {
     "name": "stdout",
     "output_type": "stream",
     "text": [
      "nit:12256\n"
     ]
    },
    {
     "name": "stderr",
     "output_type": "stream",
     "text": [
      "100%|███████████████████████████████████████████████████████████████████████████████████████████████████████████████████████| 6/6 [07:08<00:00, 71.46s/it]\n"
     ]
    },
    {
     "name": "stdout",
     "output_type": "stream",
     "text": [
      "Mean normalized geodesic error: 0.18279729654884025\n"
     ]
    }
   ],
   "source": [
    "p2p_cfm_base, distances_cfm_base = eval_net(cfg, \"project/data/shrec_pretrained_model/shrec_cuts.pth\", \"data/eval/cfm_base.pt\", return_pred_p2p=True, return_dist=True, mode=\"CFM\")"
   ]
  },
  {
   "cell_type": "markdown",
   "metadata": {},
   "source": [
    "### Accum. geodesic error plot"
   ]
  },
  {
   "cell_type": "code",
   "execution_count": 186,
   "metadata": {},
   "outputs": [
    {
     "data": {
      "image/png": "[encoded data removed]",
      "text/plain": [
       "<Figure size 432x288 with 1 Axes>"
      ]
     },
     "metadata": {
      "needs_background": "light"
     },
     "output_type": "display_data"
    }
   ],
   "source": [
    "dist_dict = {\n",
    "    'Base (FM)': distances_fm_base,\n",
    "    'Base (CFM)': distances_cfm_base,\n",
    "    'DPFM (FM)': distances_fm_dpfm,\n",
    "    'DPFM (CFM)': distances_cfm_dpfm,\n",
    "    'DPCFM (FM)': distances_fm_dpcfm,\n",
    "    'DPCFM (CFM)': distances_cfm_dpcfm,\n",
    "    #'fm_pt': distances_fm_pt,\n",
    "    #'cfm_pt': distances_cfm_pt,\n",
    "}\n",
    "\n",
    "save_dir = \"data/eval/dpcfm_ge.png\"\n",
    "\n",
    "plot_geod_err(dist_dict, save_dir)"
   ]
  },
  {
   "cell_type": "code",
   "execution_count": 146,
   "metadata": {},
   "outputs": [
    {
     "data": {
      "application/vnd.jupyter.widget-view+json": {
       "model_id": "2cdb4dc96e43428daca16d901913e061",
       "version_major": 2,
       "version_minor": 0
      },
      "text/plain": [
       "HBox(children=(Output(), Output()))"
      ]
     },
     "metadata": {},
     "output_type": "display_data"
    },
    {
     "data": {
      "application/vnd.jupyter.widget-view+json": {
       "model_id": "cbef752a24484999bd9f601bc0064888",
       "version_major": 2,
       "version_minor": 0
      },
      "text/plain": [
       "HBox(children=(Output(), Output()))"
      ]
     },
     "metadata": {},
     "output_type": "display_data"
    }
   ],
   "source": [
    "i=0\n",
    "plot_p2p(p2p_cfm_dpcfm[i][\"mesh1\"], p2p_cfm_dpcfm[i][\"mesh2\"], p2p_cfm_dpcfm[i][\"p2p\"])"
   ]
  }
 ],
 "metadata": {
  "kernelspec": {
   "display_name": "Python 3 (ipykernel)",
   "language": "python",
   "name": "python3"
  },
  "language_info": {
   "codemirror_mode": {
    "name": "ipython",
    "version": 3
   },
   "file_extension": ".py",
   "mimetype": "text/x-python",
   "name": "python",
   "nbconvert_exporter": "python",
   "pygments_lexer": "ipython3",
   "version": "3.9.12"
  },
  "vscode": {
   "interpreter": {
    "hash": "e956ee7660bdd64c6d0f8ca0a4d1ec0d49840f6dce9aa7b6de62a1b26319698c"
   }
  }
 },
 "nbformat": 4,
 "nbformat_minor": 2
}
