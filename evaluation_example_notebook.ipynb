{
 "cells": [
  {
   "cell_type": "markdown",
   "metadata": {},
   "source": [
    "\n",
    "# 1 - Imports and defining functions"
   ]
  },
  {
   "cell_type": "code",
   "execution_count": 2,
   "metadata": {},
   "outputs": [],
   "source": [
    "import numpy as np\n",
    "\n",
    "import meshplot as mp\n",
    "import matplotlib.pyplot as plt\n",
    "\n",
    "from pyFM.functional import FunctionalMapping\n",
    "from project.evaluate import EvaluateModel # evaluation class\n",
    "from pyFM.functional import FunctionalMapping # functional mapping class\n",
    "from project.cfunctional import CoupledFunctionalMapping # coupled functional mapping class\n",
    "from project.datasets import ShrecPartialDataset as SPD # Shrec dataset class\n",
    "from project.datasets import FaustRep as FR # Faust dataset class\n",
    "from project.datasets import Tosca as T # Tosca dataset class\n",
    "\n",
    "def plot_mesh(myMesh,cmap=None):\n",
    "    mp.plot(myMesh.vertlist, myMesh.facelist,c=cmap)\n",
    "    \n",
    "def double_plot(myMesh1,myMesh2,cmap1=None,cmap2=None):\n",
    "    d = mp.subplot(myMesh1.vertlist, myMesh1.facelist, c=cmap1, s=[2, 2, 0])\n",
    "    mp.subplot(myMesh2.vertlist, myMesh2.facelist, c=cmap2, s=[2, 2, 1], data=d)\n",
    "\n",
    "def visu(vertices):\n",
    "    min_coord,max_coord = np.min(vertices,axis=0,keepdims=True),np.max(vertices,axis=0,keepdims=True)\n",
    "    cmap = (vertices-min_coord)/(max_coord-min_coord)\n",
    "    return cmap"
   ]
  },
  {
   "cell_type": "markdown",
   "metadata": {},
   "source": [
    "# 2- Evaluating Results"
   ]
  },
  {
   "cell_type": "markdown",
   "metadata": {},
   "source": [
    "Definition of paths, **adjust to your local paths**"
   ]
  },
  {
   "cell_type": "code",
   "execution_count": 3,
   "metadata": {},
   "outputs": [],
   "source": [
    "data_path_cp2p = \"../../data/cp2p_dev\"\n",
    "data_path_faust = \"../../data/MPI-FAUST_dev\"\n",
    "data_path_tosca = \"../../data/SGP_dataset_off\""
   ]
  },
  {
   "cell_type": "markdown",
   "metadata": {},
   "source": [
    "### Functional mapping on FAUST representation data"
   ]
  },
  {
   "cell_type": "markdown",
   "metadata": {},
   "source": [
    "- preprocess_params arguments are given to model.preprocess()\n",
    "- fit_params arguments are given to model.fit()\n",
    "- data_params arguments are given to the dataclass initialization"
   ]
  },
  {
   "cell_type": "code",
   "execution_count": 3,
   "metadata": {},
   "outputs": [
    {
     "name": "stdout",
     "output_type": "stream",
     "text": [
      "loading mesh tr_reg_000\n",
      "loading mesh tr_reg_001\n",
      "loading mesh tr_reg_002\n",
      "Initialization done!\n"
     ]
    }
   ],
   "source": [
    "evaluation = EvaluateModel(\n",
    "    FunctionalMapping, FR, data_path_faust, refine=False, \n",
    "    preprocess_params={\n",
    "        'n_ev': (35,35),  # Number of eigenvalues on source and Target\n",
    "        # 'landmarks': np.loadtxt('data/landmarks.txt',dtype=int)[:5],  # loading 5 landmarks\n",
    "        'subsample_step': 5,  # In order not to use too many descriptors\n",
    "        'descr_type': 'WKS',  # WKS or HKS\n",
    "    },\n",
    "    fit_params={\n",
    "        'w_descr': 1e0,\n",
    "        'w_lap': 1e-2,\n",
    "        'w_dcomm': 1e-1,\n",
    "        'w_orient': 0\n",
    "    },\n",
    "    # data_params={\n",
    "    #     'name': 'cuts',\n",
    "    #     'selected': True\n",
    "    # },\n",
    "    verbose=False)"
   ]
  },
  {
   "cell_type": "markdown",
   "metadata": {},
   "source": [
    "Call eval() function to evaluate the given dataset on the given model"
   ]
  },
  {
   "cell_type": "code",
   "execution_count": 4,
   "metadata": {},
   "outputs": [
    {
     "name": "stderr",
     "output_type": "stream",
     "text": [
      "100%|██████████| 6/6 [02:02<00:00, 20.36s/it]\n"
     ]
    },
    {
     "name": "stdout",
     "output_type": "stream",
     "text": [
      "Mean accuracy results\n",
      "\tBasic FM : 67.31\n",
      "\n",
      "Standard deviation of accuracy results\n",
      "\tBasic FM : 39.15\n",
      "\n"
     ]
    }
   ],
   "source": [
    "evaluation.eval()"
   ]
  },
  {
   "cell_type": "markdown",
   "metadata": {},
   "source": [
    "### Coupled Functional Mapping on Tosca Data "
   ]
  },
  {
   "cell_type": "code",
   "execution_count": 4,
   "metadata": {},
   "outputs": [
    {
     "name": "stdout",
     "output_type": "stream",
     "text": [
      "loading mesh cat0_partial1\n",
      "loading mesh cat1_partial1\n",
      "loading mesh cat3_partial2\n",
      "loading mesh cat8_partial3\n",
      "loading mesh cat9_partial2\n",
      "loading mesh centaur0_partial2\n",
      "loading mesh centaur0_partial3\n",
      "loading mesh centaur5_partial1\n",
      "loading mesh centaur5_partial4\n",
      "loading mesh david0_partial1\n",
      "loading mesh david12_partial2\n",
      "loading mesh david13_partial3\n",
      "loading mesh david13_partial6\n",
      "loading mesh dog0_partial5\n",
      "loading mesh dog10_partial3\n",
      "loading mesh dog1_partial5\n",
      "loading mesh dog8_partial6\n",
      "loading mesh horse0_partial2\n",
      "loading mesh horse15_partial6\n",
      "loading mesh horse17_partial5\n",
      "loading mesh michael15_partial6\n",
      "loading mesh michael16_partial3\n",
      "loading mesh michael18_partial4\n",
      "loading mesh michael1_partial1\n",
      "loading mesh victoria0_partial4\n",
      "loading mesh victoria1_partial6\n",
      "loading mesh victoria25_partial6\n",
      "loading mesh victoria2_partial1\n",
      "loading mesh wolf0_partial2\n",
      "loading mesh wolf2_partial4\n",
      "loading mesh wolf2_partial5\n",
      "loading mesh wolf2_partial6\n",
      "loading mesh cat0\n",
      "loading mesh cat1\n",
      "loading mesh cat10\n",
      "loading mesh cat2\n",
      "loading mesh cat3\n",
      "loading mesh cat4\n",
      "loading mesh cat5\n",
      "loading mesh cat6\n",
      "loading mesh cat7\n",
      "loading mesh cat8\n",
      "loading mesh cat9\n",
      "loading mesh centaur0\n",
      "loading mesh centaur1\n",
      "loading mesh centaur2\n",
      "loading mesh centaur3\n",
      "loading mesh centaur4\n",
      "loading mesh centaur5\n",
      "loading mesh david0\n",
      "loading mesh david1\n",
      "loading mesh david10\n",
      "loading mesh david11\n",
      "loading mesh david12\n",
      "loading mesh david13\n",
      "loading mesh david6\n",
      "loading mesh dog0\n",
      "loading mesh dog1\n",
      "loading mesh dog10\n",
      "loading mesh dog2\n",
      "loading mesh dog3\n",
      "loading mesh dog5\n",
      "loading mesh dog6\n",
      "loading mesh dog7\n",
      "loading mesh dog8\n",
      "loading mesh horse0\n",
      "loading mesh horse10\n",
      "loading mesh horse14\n",
      "loading mesh horse15\n",
      "loading mesh horse17\n",
      "loading mesh horse5\n",
      "loading mesh horse6\n",
      "loading mesh horse7\n",
      "loading mesh michael0\n",
      "loading mesh michael1\n",
      "loading mesh michael10\n",
      "loading mesh michael11\n",
      "loading mesh michael12\n",
      "loading mesh michael13\n",
      "loading mesh michael14\n",
      "loading mesh michael15\n",
      "loading mesh michael16\n",
      "loading mesh michael17\n",
      "loading mesh michael18\n",
      "loading mesh michael19\n",
      "loading mesh michael2\n",
      "loading mesh michael3\n",
      "loading mesh michael4\n",
      "loading mesh michael5\n",
      "loading mesh michael6\n",
      "loading mesh michael7\n",
      "loading mesh michael8\n",
      "loading mesh michael9\n",
      "loading mesh victoria0\n",
      "loading mesh victoria1\n",
      "loading mesh victoria10\n",
      "loading mesh victoria12\n",
      "loading mesh victoria17\n",
      "loading mesh victoria2\n",
      "loading mesh victoria21\n",
      "loading mesh victoria23\n",
      "loading mesh victoria24\n",
      "loading mesh victoria25\n",
      "loading mesh victoria4\n",
      "loading mesh victoria7\n",
      "loading mesh wolf0\n",
      "loading mesh wolf1\n",
      "loading mesh wolf2\n",
      "Initialization done!\n"
     ]
    }
   ],
   "source": [
    "evaluation_c = EvaluateModel(\n",
    "    CoupledFunctionalMapping, T, data_path_tosca, refine=False, \n",
    "    preprocess_params={\n",
    "        'n_ev': (35,35),  # Number of eigenvalues on source and Target\n",
    "        # 'landmarks': np.loadtxt('data/landmarks.txt',dtype=int)[:5],  # loading 5 landmarks\n",
    "        'subsample_step': 5,  # In order not to use too many descriptors\n",
    "        'descr_type': 'WKS',  # WKS or HKS\n",
    "    },\n",
    "    fit_params={\n",
    "        'mu_cons': 5e-2,\n",
    "        'mu_LB': 5e0,\n",
    "    },\n",
    "    data_params={\n",
    "        'name': 'cuts',\n",
    "        'selected': True,\n",
    "        'use_adj': True\n",
    "    },\n",
    "    verbose=False)"
   ]
  },
  {
   "cell_type": "code",
   "execution_count": 5,
   "metadata": {},
   "outputs": [
    {
     "name": "stderr",
     "output_type": "stream",
     "text": [
      "  0%|          | 0/32 [00:00<?, ?it/s]"
     ]
    },
    {
     "name": "stdout",
     "output_type": "stream",
     "text": [
      "Warning: Desired error not necessarily achieved due to precision loss.\n",
      "         Current function value: 0.974954\n",
      "         Iterations: 17\n",
      "         Function evaluations: 83\n",
      "         Gradient evaluations: 71\n"
     ]
    },
    {
     "name": "stderr",
     "output_type": "stream",
     "text": [
      "  3%|▎         | 1/32 [00:25<13:07, 25.39s/it]"
     ]
    },
    {
     "name": "stdout",
     "output_type": "stream",
     "text": [
      "Warning: Desired error not necessarily achieved due to precision loss.\n",
      "         Current function value: 0.166280\n",
      "         Iterations: 209\n",
      "         Function evaluations: 455\n",
      "         Gradient evaluations: 443\n"
     ]
    },
    {
     "name": "stderr",
     "output_type": "stream",
     "text": [
      "  6%|▋         | 2/32 [00:42<10:09, 20.33s/it]"
     ]
    },
    {
     "name": "stdout",
     "output_type": "stream",
     "text": [
      "Warning: Desired error not necessarily achieved due to precision loss.\n",
      "         Current function value: 0.106475\n",
      "         Iterations: 211\n",
      "         Function evaluations: 486\n",
      "         Gradient evaluations: 474\n"
     ]
    },
    {
     "name": "stderr",
     "output_type": "stream",
     "text": [
      "  9%|▉         | 3/32 [02:07<24:08, 49.94s/it]"
     ]
    },
    {
     "name": "stdout",
     "output_type": "stream",
     "text": [
      "Warning: Desired error not necessarily achieved due to precision loss.\n",
      "         Current function value: 1.054918\n",
      "         Iterations: 15\n",
      "         Function evaluations: 65\n",
      "         Gradient evaluations: 53\n"
     ]
    },
    {
     "name": "stderr",
     "output_type": "stream",
     "text": [
      " 12%|█▎        | 4/32 [02:59<23:48, 51.00s/it]"
     ]
    },
    {
     "name": "stdout",
     "output_type": "stream",
     "text": [
      "Warning: Desired error not necessarily achieved due to precision loss.\n",
      "         Current function value: 0.990568\n",
      "         Iterations: 16\n",
      "         Function evaluations: 82\n",
      "         Gradient evaluations: 71\n"
     ]
    },
    {
     "name": "stderr",
     "output_type": "stream",
     "text": [
      " 16%|█▌        | 5/32 [04:07<25:40, 57.07s/it]"
     ]
    },
    {
     "name": "stdout",
     "output_type": "stream",
     "text": [
      "Warning: Desired error not necessarily achieved due to precision loss.\n",
      "         Current function value: 0.856393\n",
      "         Iterations: 15\n",
      "         Function evaluations: 77\n",
      "         Gradient evaluations: 66\n"
     ]
    },
    {
     "name": "stderr",
     "output_type": "stream",
     "text": [
      " 19%|█▉        | 6/32 [05:24<27:40, 63.86s/it]"
     ]
    },
    {
     "name": "stdout",
     "output_type": "stream",
     "text": [
      "Warning: Desired error not necessarily achieved due to precision loss.\n",
      "         Current function value: 0.821987\n",
      "         Iterations: 16\n",
      "         Function evaluations: 75\n",
      "         Gradient evaluations: 63\n"
     ]
    },
    {
     "name": "stderr",
     "output_type": "stream",
     "text": [
      " 22%|██▏       | 7/32 [05:39<19:57, 47.90s/it]"
     ]
    },
    {
     "name": "stdout",
     "output_type": "stream",
     "text": [
      "Warning: Desired error not necessarily achieved due to precision loss.\n",
      "         Current function value: 0.119507\n",
      "         Iterations: 197\n",
      "         Function evaluations: 444\n",
      "         Gradient evaluations: 433\n"
     ]
    },
    {
     "name": "stderr",
     "output_type": "stream",
     "text": [
      " 25%|██▌       | 8/32 [06:27<19:05, 47.72s/it]"
     ]
    },
    {
     "name": "stdout",
     "output_type": "stream",
     "text": [
      "Warning: Desired error not necessarily achieved due to precision loss.\n",
      "         Current function value: 1.072492\n",
      "         Iterations: 18\n",
      "         Function evaluations: 72\n",
      "         Gradient evaluations: 61\n"
     ]
    },
    {
     "name": "stderr",
     "output_type": "stream",
     "text": [
      " 28%|██▊       | 9/32 [07:02<16:48, 43.87s/it]"
     ]
    },
    {
     "name": "stdout",
     "output_type": "stream",
     "text": [
      "Warning: Desired error not necessarily achieved due to precision loss.\n",
      "         Current function value: 0.897582\n",
      "         Iterations: 17\n",
      "         Function evaluations: 82\n",
      "         Gradient evaluations: 70\n"
     ]
    },
    {
     "name": "stderr",
     "output_type": "stream",
     "text": [
      " 31%|███▏      | 10/32 [07:48<16:17, 44.41s/it]"
     ]
    },
    {
     "name": "stdout",
     "output_type": "stream",
     "text": [
      "Warning: Desired error not necessarily achieved due to precision loss.\n",
      "         Current function value: 1.139708\n",
      "         Iterations: 17\n",
      "         Function evaluations: 72\n",
      "         Gradient evaluations: 60\n"
     ]
    },
    {
     "name": "stderr",
     "output_type": "stream",
     "text": [
      " 34%|███▍      | 11/32 [08:40<16:19, 46.67s/it]"
     ]
    },
    {
     "name": "stdout",
     "output_type": "stream",
     "text": [
      "Warning: Desired error not necessarily achieved due to precision loss.\n",
      "         Current function value: 0.155575\n",
      "         Iterations: 232\n",
      "         Function evaluations: 503\n",
      "         Gradient evaluations: 491\n"
     ]
    },
    {
     "name": "stderr",
     "output_type": "stream",
     "text": [
      " 38%|███▊      | 12/32 [09:23<15:12, 45.60s/it]"
     ]
    },
    {
     "name": "stdout",
     "output_type": "stream",
     "text": [
      "Warning: Desired error not necessarily achieved due to precision loss.\n",
      "         Current function value: 0.900308\n",
      "         Iterations: 14\n",
      "         Function evaluations: 68\n",
      "         Gradient evaluations: 57\n"
     ]
    },
    {
     "name": "stderr",
     "output_type": "stream",
     "text": [
      " 41%|████      | 13/32 [09:59<13:30, 42.66s/it]"
     ]
    },
    {
     "name": "stdout",
     "output_type": "stream",
     "text": [
      "Warning: Desired error not necessarily achieved due to precision loss.\n",
      "         Current function value: 0.857406\n",
      "         Iterations: 21\n",
      "         Function evaluations: 122\n",
      "         Gradient evaluations: 110\n"
     ]
    },
    {
     "name": "stderr",
     "output_type": "stream",
     "text": [
      " 44%|████▍     | 14/32 [10:35<12:12, 40.71s/it]"
     ]
    },
    {
     "name": "stdout",
     "output_type": "stream",
     "text": [
      "Warning: Desired error not necessarily achieved due to precision loss.\n",
      "         Current function value: 0.952572\n",
      "         Iterations: 14\n",
      "         Function evaluations: 98\n",
      "         Gradient evaluations: 86\n"
     ]
    },
    {
     "name": "stderr",
     "output_type": "stream",
     "text": [
      " 47%|████▋     | 15/32 [11:13<11:16, 39.82s/it]"
     ]
    },
    {
     "name": "stdout",
     "output_type": "stream",
     "text": [
      "Warning: Desired error not necessarily achieved due to precision loss.\n",
      "         Current function value: 0.931512\n",
      "         Iterations: 15\n",
      "         Function evaluations: 86\n",
      "         Gradient evaluations: 75\n"
     ]
    },
    {
     "name": "stderr",
     "output_type": "stream",
     "text": [
      " 50%|█████     | 16/32 [12:00<11:15, 42.22s/it]"
     ]
    },
    {
     "name": "stdout",
     "output_type": "stream",
     "text": [
      "Warning: Desired error not necessarily achieved due to precision loss.\n",
      "         Current function value: 0.168086\n",
      "         Iterations: 195\n",
      "         Function evaluations: 438\n",
      "         Gradient evaluations: 427\n"
     ]
    },
    {
     "name": "stderr",
     "output_type": "stream",
     "text": [
      " 53%|█████▎    | 17/32 [12:41<10:28, 41.89s/it]"
     ]
    },
    {
     "name": "stdout",
     "output_type": "stream",
     "text": [
      "Warning: Desired error not necessarily achieved due to precision loss.\n",
      "         Current function value: 0.893770\n",
      "         Iterations: 17\n",
      "         Function evaluations: 91\n",
      "         Gradient evaluations: 80\n"
     ]
    },
    {
     "name": "stderr",
     "output_type": "stream",
     "text": [
      " 56%|█████▋    | 18/32 [13:37<10:45, 46.08s/it]"
     ]
    },
    {
     "name": "stdout",
     "output_type": "stream",
     "text": [
      "Warning: Desired error not necessarily achieved due to precision loss.\n",
      "         Current function value: 1.032365\n",
      "         Iterations: 19\n",
      "         Function evaluations: 74\n",
      "         Gradient evaluations: 62\n"
     ]
    },
    {
     "name": "stderr",
     "output_type": "stream",
     "text": [
      " 59%|█████▉    | 19/32 [14:30<10:23, 47.96s/it]"
     ]
    },
    {
     "name": "stdout",
     "output_type": "stream",
     "text": [
      "Warning: Desired error not necessarily achieved due to precision loss.\n",
      "         Current function value: 0.912958\n",
      "         Iterations: 11\n",
      "         Function evaluations: 85\n",
      "         Gradient evaluations: 73\n"
     ]
    },
    {
     "name": "stderr",
     "output_type": "stream",
     "text": [
      " 62%|██████▎   | 20/32 [15:20<09:42, 48.54s/it]"
     ]
    },
    {
     "name": "stdout",
     "output_type": "stream",
     "text": [
      "Warning: Desired error not necessarily achieved due to precision loss.\n",
      "         Current function value: 0.169335\n",
      "         Iterations: 144\n",
      "         Function evaluations: 343\n",
      "         Gradient evaluations: 331\n"
     ]
    },
    {
     "name": "stderr",
     "output_type": "stream",
     "text": [
      " 66%|██████▌   | 21/32 [16:08<08:53, 48.46s/it]"
     ]
    },
    {
     "name": "stdout",
     "output_type": "stream",
     "text": [
      "Warning: Desired error not necessarily achieved due to precision loss.\n",
      "         Current function value: 0.887137\n",
      "         Iterations: 16\n",
      "         Function evaluations: 106\n",
      "         Gradient evaluations: 93\n"
     ]
    },
    {
     "name": "stderr",
     "output_type": "stream",
     "text": [
      " 69%|██████▉   | 22/32 [16:50<07:45, 46.59s/it]"
     ]
    },
    {
     "name": "stdout",
     "output_type": "stream",
     "text": [
      "Warning: Desired error not necessarily achieved due to precision loss.\n",
      "         Current function value: 0.232006\n",
      "         Iterations: 212\n",
      "         Function evaluations: 498\n",
      "         Gradient evaluations: 487\n"
     ]
    },
    {
     "name": "stderr",
     "output_type": "stream",
     "text": [
      " 72%|███████▏  | 23/32 [17:33<06:49, 45.45s/it]"
     ]
    },
    {
     "name": "stdout",
     "output_type": "stream",
     "text": [
      "Warning: Desired error not necessarily achieved due to precision loss.\n",
      "         Current function value: 0.187040\n",
      "         Iterations: 304\n",
      "         Function evaluations: 647\n",
      "         Gradient evaluations: 636\n"
     ]
    },
    {
     "name": "stderr",
     "output_type": "stream",
     "text": [
      " 75%|███████▌  | 24/32 [18:14<05:53, 44.14s/it]"
     ]
    },
    {
     "name": "stdout",
     "output_type": "stream",
     "text": [
      "Warning: Desired error not necessarily achieved due to precision loss.\n",
      "         Current function value: 0.906906\n",
      "         Iterations: 14\n",
      "         Function evaluations: 67\n",
      "         Gradient evaluations: 55\n"
     ]
    },
    {
     "name": "stderr",
     "output_type": "stream",
     "text": [
      " 78%|███████▊  | 25/32 [18:55<05:02, 43.21s/it]"
     ]
    },
    {
     "name": "stdout",
     "output_type": "stream",
     "text": [
      "Warning: Desired error not necessarily achieved due to precision loss.\n",
      "         Current function value: 1.175135\n",
      "         Iterations: 18\n",
      "         Function evaluations: 83\n",
      "         Gradient evaluations: 72\n"
     ]
    },
    {
     "name": "stderr",
     "output_type": "stream",
     "text": [
      " 81%|████████▏ | 26/32 [19:35<04:13, 42.18s/it]"
     ]
    },
    {
     "name": "stdout",
     "output_type": "stream",
     "text": [
      "Warning: Desired error not necessarily achieved due to precision loss.\n",
      "         Current function value: 0.763144\n",
      "         Iterations: 42\n",
      "         Function evaluations: 162\n",
      "         Gradient evaluations: 150\n"
     ]
    },
    {
     "name": "stderr",
     "output_type": "stream",
     "text": [
      " 84%|████████▍ | 27/32 [20:24<03:40, 44.17s/it]"
     ]
    },
    {
     "name": "stdout",
     "output_type": "stream",
     "text": [
      "Warning: Desired error not necessarily achieved due to precision loss.\n",
      "         Current function value: 0.189604\n",
      "         Iterations: 204\n",
      "         Function evaluations: 461\n",
      "         Gradient evaluations: 450\n"
     ]
    },
    {
     "name": "stderr",
     "output_type": "stream",
     "text": [
      " 88%|████████▊ | 28/32 [20:36<02:18, 34.70s/it]"
     ]
    },
    {
     "name": "stdout",
     "output_type": "stream",
     "text": [
      "Warning: Desired error not necessarily achieved due to precision loss.\n",
      "         Current function value: 0.192890\n",
      "         Iterations: 319\n",
      "         Function evaluations: 644\n",
      "         Gradient evaluations: 635\n"
     ]
    },
    {
     "name": "stderr",
     "output_type": "stream",
     "text": [
      " 91%|█████████ | 29/32 [21:22<01:54, 38.14s/it]"
     ]
    },
    {
     "name": "stdout",
     "output_type": "stream",
     "text": [
      "Warning: Desired error not necessarily achieved due to precision loss.\n",
      "         Current function value: 0.838036\n",
      "         Iterations: 12\n",
      "         Function evaluations: 103\n",
      "         Gradient evaluations: 91\n"
     ]
    },
    {
     "name": "stderr",
     "output_type": "stream",
     "text": [
      " 94%|█████████▍| 30/32 [22:13<01:23, 41.81s/it]"
     ]
    },
    {
     "name": "stdout",
     "output_type": "stream",
     "text": [
      "Warning: Desired error not necessarily achieved due to precision loss.\n",
      "         Current function value: 0.902845\n",
      "         Iterations: 15\n",
      "         Function evaluations: 96\n",
      "         Gradient evaluations: 84\n"
     ]
    },
    {
     "name": "stderr",
     "output_type": "stream",
     "text": [
      " 97%|█████████▋| 31/32 [22:58<00:42, 42.79s/it]"
     ]
    },
    {
     "name": "stdout",
     "output_type": "stream",
     "text": [
      "Warning: Desired error not necessarily achieved due to precision loss.\n",
      "         Current function value: 0.830526\n",
      "         Iterations: 18\n",
      "         Function evaluations: 76\n",
      "         Gradient evaluations: 64\n"
     ]
    },
    {
     "name": "stderr",
     "output_type": "stream",
     "text": [
      "100%|██████████| 32/32 [24:30<00:00, 45.94s/it]\n"
     ]
    },
    {
     "name": "stdout",
     "output_type": "stream",
     "text": [
      "Mean accuracy results\n",
      "\tBasic FM : 582.36\n",
      "\n",
      "Standard deviation of accuracy results\n",
      "\tBasic FM : 118.24\n",
      "\n"
     ]
    }
   ],
   "source": [
    "evaluation_c.eval()"
   ]
  },
  {
   "cell_type": "markdown",
   "metadata": {},
   "source": [
    "### Functional Mapping on Tosca Data"
   ]
  },
  {
   "cell_type": "code",
   "execution_count": 5,
   "metadata": {},
   "outputs": [
    {
     "name": "stdout",
     "output_type": "stream",
     "text": [
      "loading mesh cat0_partial1\n",
      "loading mesh cat1_partial1\n",
      "loading mesh cat3_partial2\n",
      "loading mesh cat8_partial3\n",
      "loading mesh cat9_partial2\n",
      "loading mesh centaur0_partial2\n",
      "loading mesh centaur0_partial3\n",
      "loading mesh centaur5_partial1\n",
      "loading mesh centaur5_partial4\n",
      "loading mesh david0_partial1\n",
      "loading mesh david12_partial2\n",
      "loading mesh david13_partial3\n",
      "loading mesh david13_partial6\n",
      "loading mesh dog0_partial5\n",
      "loading mesh dog10_partial3\n",
      "loading mesh dog1_partial5\n",
      "loading mesh dog8_partial6\n",
      "loading mesh horse0_partial2\n",
      "loading mesh horse15_partial6\n",
      "loading mesh horse17_partial5\n",
      "loading mesh michael15_partial6\n",
      "loading mesh michael16_partial3\n",
      "loading mesh michael18_partial4\n",
      "loading mesh michael1_partial1\n",
      "loading mesh victoria0_partial4\n",
      "loading mesh victoria1_partial6\n",
      "loading mesh victoria25_partial6\n",
      "loading mesh victoria2_partial1\n",
      "loading mesh wolf0_partial2\n",
      "loading mesh wolf2_partial4\n",
      "loading mesh wolf2_partial5\n",
      "loading mesh wolf2_partial6\n",
      "loading mesh cat0\n",
      "loading mesh cat1\n",
      "loading mesh cat10\n",
      "loading mesh cat2\n",
      "loading mesh cat3\n",
      "loading mesh cat4\n",
      "loading mesh cat5\n",
      "loading mesh cat6\n",
      "loading mesh cat7\n",
      "loading mesh cat8\n",
      "loading mesh cat9\n",
      "loading mesh centaur0\n",
      "loading mesh centaur1\n",
      "loading mesh centaur2\n",
      "loading mesh centaur3\n",
      "loading mesh centaur4\n",
      "loading mesh centaur5\n",
      "loading mesh david0\n",
      "loading mesh david1\n",
      "loading mesh david10\n",
      "loading mesh david11\n",
      "loading mesh david12\n",
      "loading mesh david13\n",
      "loading mesh david6\n",
      "loading mesh dog0\n",
      "loading mesh dog1\n",
      "loading mesh dog10\n",
      "loading mesh dog2\n",
      "loading mesh dog3\n",
      "loading mesh dog5\n",
      "loading mesh dog6\n",
      "loading mesh dog7\n",
      "loading mesh dog8\n",
      "loading mesh horse0\n",
      "loading mesh horse10\n",
      "loading mesh horse14\n",
      "loading mesh horse15\n",
      "loading mesh horse17\n",
      "loading mesh horse5\n",
      "loading mesh horse6\n",
      "loading mesh horse7\n",
      "loading mesh michael0\n",
      "loading mesh michael1\n",
      "loading mesh michael10\n",
      "loading mesh michael11\n",
      "loading mesh michael12\n",
      "loading mesh michael13\n",
      "loading mesh michael14\n",
      "loading mesh michael15\n",
      "loading mesh michael16\n",
      "loading mesh michael17\n",
      "loading mesh michael18\n",
      "loading mesh michael19\n",
      "loading mesh michael2\n",
      "loading mesh michael3\n",
      "loading mesh michael4\n",
      "loading mesh michael5\n",
      "loading mesh michael6\n",
      "loading mesh michael7\n",
      "loading mesh michael8\n",
      "loading mesh michael9\n",
      "loading mesh victoria0\n",
      "loading mesh victoria1\n",
      "loading mesh victoria10\n",
      "loading mesh victoria12\n",
      "loading mesh victoria17\n",
      "loading mesh victoria2\n",
      "loading mesh victoria21\n",
      "loading mesh victoria23\n",
      "loading mesh victoria24\n",
      "loading mesh victoria25\n",
      "loading mesh victoria4\n",
      "loading mesh victoria7\n",
      "loading mesh wolf0\n",
      "loading mesh wolf1\n",
      "loading mesh wolf2\n",
      "Initialization done!\n"
     ]
    }
   ],
   "source": [
    "evaluation_cfm = EvaluateModel(\n",
    "    FunctionalMapping, T, data_path_tosca, refine=False, \n",
    "    preprocess_params={\n",
    "        'n_ev': (35,35),  # Number of eigenvalues on source and Target\n",
    "        # 'landmarks': np.loadtxt('data/landmarks.txt',dtype=int)[:5],  # loading 5 landmarks\n",
    "        'subsample_step': 5,  # In order not to use too many descriptors\n",
    "        'descr_type': 'WKS',  # WKS or HKS\n",
    "    },\n",
    "    fit_params={\n",
    "        'w_descr': 1e0,\n",
    "        'w_lap': 1e-2,\n",
    "        'w_dcomm': 1e-1,\n",
    "        'w_orient': 0\n",
    "    },\n",
    "    data_params={\n",
    "        'name': 'cuts',\n",
    "        'selected': True,\n",
    "        'use_adj': True\n",
    "    },\n",
    "    verbose=False)"
   ]
  },
  {
   "cell_type": "code",
   "execution_count": 6,
   "metadata": {},
   "outputs": [
    {
     "name": "stderr",
     "output_type": "stream",
     "text": [
      "100%|██████████| 32/32 [21:01<00:00, 39.42s/it]\n"
     ]
    },
    {
     "name": "stdout",
     "output_type": "stream",
     "text": [
      "Mean accuracy results\n",
      "\tBasic FM : 599.64\n",
      "\n",
      "Standard deviation of accuracy results\n",
      "\tBasic FM : 135.21\n",
      "\n"
     ]
    }
   ],
   "source": [
    "evaluation_cfm.eval()"
   ]
  },
  {
   "cell_type": "markdown",
   "metadata": {},
   "source": [
    "### Load results"
   ]
  },
  {
   "cell_type": "markdown",
   "metadata": {},
   "source": [
    "**adjust paths to your local paths**"
   ]
  },
  {
   "cell_type": "code",
   "execution_count": 46,
   "metadata": {},
   "outputs": [],
   "source": [
    "def load_res(path):\n",
    "    with open(path, \"r\") as f:\n",
    "        return [float(x) for x in f.read().split(\", \")]\n",
    "\n",
    "\n",
    "# FM_res = load_res(f'data/eval/distances_FunctionalMapping_Tosca.txt')\n",
    "# CFM_res = load_res(f'data/eval/distances_CoupledFunctionalMapping_Tosca.txt')\n",
    "\n",
    "FM_res = load_res(f'data/eval/distances_FunctionalMapping_FaustRep.txt')\n",
    "CFM_res = load_res(f'data/eval/distances_CoupledFunctionalMapping_FaustRep.txt')"
   ]
  },
  {
   "cell_type": "markdown",
   "metadata": {},
   "source": [
    "### Plot results"
   ]
  },
  {
   "cell_type": "code",
   "execution_count": 47,
   "metadata": {},
   "outputs": [],
   "source": [
    "def plot_res(x, y):\n",
    "    x = np.sort(x)\n",
    "    f_x = np.array(range(len(x)))/float(len(x))\n",
    "    y = np.sort(y)\n",
    "    f_y = np.array(range(len(y)))/float(len(y))\n",
    "\n",
    "    plt.plot(x, f_x, label='FM')\n",
    "    plt.plot(y, f_y, label='CFM')\n",
    "    plt.title('Geod. distance distribution (FAUST representations)')\n",
    "    plt.xlabel('Geodesic error')\n",
    "    plt.ylabel('% Correspondences')\n",
    "    plt.xlim([0.0, 1.5])\n",
    "    plt.ylim([0.0, 1.0])\n",
    "    plt.legend()\n",
    "\n",
    "    plt.savefig(f\"data/eval/FM_v_CFM_Faust.png\", bbox_inches='tight', dpi=200)\n"
   ]
  },
  {
   "cell_type": "code",
   "execution_count": 48,
   "metadata": {},
   "outputs": [
    {
     "data": {
      "image/png": "[encoded data removed]",
      "text/plain": [
       "<Figure size 432x288 with 1 Axes>"
      ]
     },
     "metadata": {
      "needs_background": "light"
     },
     "output_type": "display_data"
    }
   ],
   "source": [
    "plot_res(FM_res, CFM_res)"
   ]
  },
  {
   "cell_type": "code",
   "execution_count": null,
   "metadata": {},
   "outputs": [],
   "source": []
  }
 ],
 "metadata": {
  "interpreter": {
   "hash": "e956ee7660bdd64c6d0f8ca0a4d1ec0d49840f6dce9aa7b6de62a1b26319698c"
  },
  "kernelspec": {
   "display_name": "Python 3.9.12 ('shape_correspondence')",
   "language": "python",
   "name": "python3"
  },
  "language_info": {
   "codemirror_mode": {
    "name": "ipython",
    "version": 3
   },
   "file_extension": ".py",
   "mimetype": "text/x-python",
   "name": "python",
   "nbconvert_exporter": "python",
   "pygments_lexer": "ipython3",
   "version": "3.9.12"
  }
 },
 "nbformat": 4,
 "nbformat_minor": 4
}
