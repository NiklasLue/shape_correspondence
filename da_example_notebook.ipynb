{
 "cells": [
  {
   "cell_type": "markdown",
   "metadata": {
    "id": "lxPKSPp3QEhV"
   },
   "source": [
    "# Only for Colab"
   ]
  },
  {
   "cell_type": "code",
   "execution_count": 1,
   "metadata": {
    "colab": {
     "base_uri": "https://localhost:8080/"
    },
    "executionInfo": {
     "elapsed": 57182,
     "status": "ok",
     "timestamp": 1658469249016,
     "user": {
      "displayName": "Pietro Massetani",
      "userId": "07865819923768454955"
     },
     "user_tz": -120
    },
    "id": "dcwEbH0WjdhL",
    "outputId": "a9df8102-2705-4ffc-b840-fc2fb4e37c79"
   },
   "outputs": [
    {
     "name": "stdout",
     "output_type": "stream",
     "text": [
      "Mounted at /content/drive\n"
     ]
    }
   ],
   "source": [
    "from google.colab import drive\n",
    "drive.mount('/content/drive')"
   ]
  },
  {
   "cell_type": "code",
   "execution_count": 2,
   "metadata": {
    "colab": {
     "base_uri": "https://localhost:8080/"
    },
    "executionInfo": {
     "elapsed": 16,
     "status": "ok",
     "timestamp": 1658469249018,
     "user": {
      "displayName": "Pietro Massetani",
      "userId": "07865819923768454955"
     },
     "user_tz": -120
    },
    "id": "knfvtVWwjqCz",
    "outputId": "8d74809e-da01-4e8d-f3d3-ec0ee5594b6f"
   },
   "outputs": [
    {
     "name": "stdout",
     "output_type": "stream",
     "text": [
      "/content/drive/MyDrive/pyFM\n"
     ]
    }
   ],
   "source": [
    "%cd drive/MyDrive/pyFM"
   ]
  },
  {
   "cell_type": "code",
   "execution_count": null,
   "metadata": {
    "colab": {
     "base_uri": "https://localhost:8080/"
    },
    "id": "NGQOOGg3t8gU",
    "outputId": "2ec3399a-39cd-4c28-b993-7742962a8bbe"
   },
   "outputs": [
    {
     "name": "stdout",
     "output_type": "stream",
     "text": [
      "Looking in indexes: https://pypi.org/simple, https://us-python.pkg.dev/colab-wheels/public/simple/\n",
      "Collecting potpourri3d\n",
      "  Downloading potpourri3d-0.0.7-cp37-cp37m-manylinux_2_17_x86_64.manylinux2014_x86_64.whl (858 kB)\n",
      "\u001b[K     |████████████████████████████████| 858 kB 6.8 MB/s \n",
      "\u001b[?25hCollecting robust_laplacian\n",
      "  Downloading robust_laplacian-0.2.4-cp37-cp37m-manylinux_2_17_x86_64.manylinux2014_x86_64.whl (388 kB)\n",
      "\u001b[K     |████████████████████████████████| 388 kB 60.1 MB/s \n",
      "\u001b[?25hCollecting open3d\n",
      "  Downloading open3d-0.15.2-cp37-cp37m-manylinux_2_27_x86_64.whl (408.6 MB)\n",
      "\u001b[K     |████████████████████████████████| 408.6 MB 28 kB/s \n",
      "\u001b[?25hCollecting trimesh\n",
      "  Downloading trimesh-3.12.9-py3-none-any.whl (652 kB)\n",
      "\u001b[K     |████████████████████████████████| 652 kB 54.5 MB/s \n",
      "\u001b[?25hRequirement already satisfied: tensorboard in /usr/local/lib/python3.7/dist-packages (2.8.0)\n",
      "Requirement already satisfied: numpy in /usr/local/lib/python3.7/dist-packages (from potpourri3d) (1.21.6)\n",
      "Requirement already satisfied: scipy in /usr/local/lib/python3.7/dist-packages (from potpourri3d) (1.7.3)\n",
      "Collecting pygments>=2.7.4\n",
      "  Downloading Pygments-2.12.0-py3-none-any.whl (1.1 MB)\n",
      "\u001b[K     |████████████████████████████████| 1.1 MB 31.5 MB/s \n",
      "\u001b[?25hCollecting pillow>=8.2.0\n",
      "  Downloading Pillow-9.2.0-cp37-cp37m-manylinux_2_17_x86_64.manylinux2014_x86_64.whl (3.1 MB)\n",
      "\u001b[K     |████████████████████████████████| 3.1 MB 33.6 MB/s \n",
      "\u001b[?25hRequirement already satisfied: ipywidgets>=7.6.0 in /usr/local/lib/python3.7/dist-packages (from open3d) (7.7.1)\n",
      "Requirement already satisfied: tqdm in /usr/local/lib/python3.7/dist-packages (from open3d) (4.64.0)\n",
      "Requirement already satisfied: pandas>=1.0 in /usr/local/lib/python3.7/dist-packages (from open3d) (1.3.5)\n",
      "Collecting addict\n",
      "  Downloading addict-2.4.0-py3-none-any.whl (3.8 kB)\n",
      "Collecting pyyaml>=5.4.1\n",
      "  Downloading PyYAML-6.0-cp37-cp37m-manylinux_2_5_x86_64.manylinux1_x86_64.manylinux_2_12_x86_64.manylinux2010_x86_64.whl (596 kB)\n",
      "\u001b[K     |████████████████████████████████| 596 kB 46.3 MB/s \n",
      "\u001b[?25hRequirement already satisfied: wheel>=0.36.0 in /usr/local/lib/python3.7/dist-packages (from open3d) (0.37.1)\n",
      "Requirement already satisfied: matplotlib>=3 in /usr/local/lib/python3.7/dist-packages (from open3d) (3.2.2)\n",
      "Collecting jupyterlab==3.*,>=3.0.0\n",
      "  Downloading jupyterlab-3.4.4-py3-none-any.whl (8.8 MB)\n",
      "\u001b[K     |████████████████████████████████| 8.8 MB 49.3 MB/s \n",
      "\u001b[?25hCollecting jupyter-packaging~=0.10\n",
      "  Downloading jupyter_packaging-0.12.2-py3-none-any.whl (15 kB)\n",
      "Requirement already satisfied: setuptools>=40.8.0 in /usr/local/lib/python3.7/dist-packages (from open3d) (57.4.0)\n",
      "Collecting pyquaternion\n",
      "  Downloading pyquaternion-0.9.9-py3-none-any.whl (14 kB)\n",
      "Requirement already satisfied: scikit-learn>=0.21 in /usr/local/lib/python3.7/dist-packages (from open3d) (1.0.2)\n",
      "Requirement already satisfied: packaging in /usr/local/lib/python3.7/dist-packages (from jupyterlab==3.*,>=3.0.0->open3d) (21.3)\n",
      "Collecting jupyter-server~=1.16\n",
      "  Downloading jupyter_server-1.18.1-py3-none-any.whl (344 kB)\n",
      "\u001b[K     |████████████████████████████████| 344 kB 51.4 MB/s \n",
      "\u001b[?25hRequirement already satisfied: jupyter-core in /usr/local/lib/python3.7/dist-packages (from jupyterlab==3.*,>=3.0.0->open3d) (4.11.1)\n",
      "Requirement already satisfied: notebook<7 in /usr/local/lib/python3.7/dist-packages (from jupyterlab==3.*,>=3.0.0->open3d) (5.3.1)\n",
      "Requirement already satisfied: jinja2>=2.1 in /usr/local/lib/python3.7/dist-packages (from jupyterlab==3.*,>=3.0.0->open3d) (2.11.3)\n",
      "Collecting tornado>=6.1.0\n",
      "  Downloading tornado-6.2-cp37-abi3-manylinux_2_5_x86_64.manylinux1_x86_64.manylinux_2_17_x86_64.manylinux2014_x86_64.whl (423 kB)\n",
      "\u001b[K     |████████████████████████████████| 423 kB 49.5 MB/s \n",
      "\u001b[?25hCollecting jupyterlab-server~=2.10\n",
      "  Downloading jupyterlab_server-2.15.0-py3-none-any.whl (54 kB)\n",
      "\u001b[K     |████████████████████████████████| 54 kB 3.4 MB/s \n",
      "\u001b[?25hRequirement already satisfied: ipython in /usr/local/lib/python3.7/dist-packages (from jupyterlab==3.*,>=3.0.0->open3d) (5.5.0)\n",
      "Collecting nbclassic\n",
      "  Downloading nbclassic-0.4.3-py3-none-any.whl (9.7 MB)\n",
      "\u001b[K     |████████████████████████████████| 9.7 MB 39.4 MB/s \n",
      "\u001b[?25hRequirement already satisfied: traitlets>=4.3.1 in /usr/local/lib/python3.7/dist-packages (from ipywidgets>=7.6.0->open3d) (5.1.1)\n",
      "Requirement already satisfied: ipykernel>=4.5.1 in /usr/local/lib/python3.7/dist-packages (from ipywidgets>=7.6.0->open3d) (4.10.1)\n",
      "Requirement already satisfied: ipython-genutils~=0.2.0 in /usr/local/lib/python3.7/dist-packages (from ipywidgets>=7.6.0->open3d) (0.2.0)\n",
      "Requirement already satisfied: widgetsnbextension~=3.6.0 in /usr/local/lib/python3.7/dist-packages (from ipywidgets>=7.6.0->open3d) (3.6.1)\n",
      "Requirement already satisfied: jupyterlab-widgets>=1.0.0 in /usr/local/lib/python3.7/dist-packages (from ipywidgets>=7.6.0->open3d) (1.1.1)\n",
      "Requirement already satisfied: jupyter-client in /usr/local/lib/python3.7/dist-packages (from ipykernel>=4.5.1->ipywidgets>=7.6.0->open3d) (5.3.5)\n",
      "Requirement already satisfied: simplegeneric>0.8 in /usr/local/lib/python3.7/dist-packages (from ipython->jupyterlab==3.*,>=3.0.0->open3d) (0.8.1)\n",
      "Requirement already satisfied: prompt-toolkit<2.0.0,>=1.0.4 in /usr/local/lib/python3.7/dist-packages (from ipython->jupyterlab==3.*,>=3.0.0->open3d) (1.0.18)\n",
      "Requirement already satisfied: pickleshare in /usr/local/lib/python3.7/dist-packages (from ipython->jupyterlab==3.*,>=3.0.0->open3d) (0.7.5)\n",
      "Requirement already satisfied: decorator in /usr/local/lib/python3.7/dist-packages (from ipython->jupyterlab==3.*,>=3.0.0->open3d) (4.4.2)\n",
      "Requirement already satisfied: pexpect in /usr/local/lib/python3.7/dist-packages (from ipython->jupyterlab==3.*,>=3.0.0->open3d) (4.8.0)\n",
      "Requirement already satisfied: MarkupSafe>=0.23 in /usr/local/lib/python3.7/dist-packages (from jinja2>=2.1->jupyterlab==3.*,>=3.0.0->open3d) (2.0.1)\n",
      "Collecting tomlkit\n",
      "  Downloading tomlkit-0.11.1-py3-none-any.whl (34 kB)\n",
      "Collecting deprecation\n",
      "  Downloading deprecation-2.1.0-py2.py3-none-any.whl (11 kB)\n",
      "Collecting setuptools>=40.8.0\n",
      "  Downloading setuptools-63.2.0-py3-none-any.whl (1.2 MB)\n",
      "\u001b[K     |████████████████████████████████| 1.2 MB 57.8 MB/s \n",
      "\u001b[?25hRequirement already satisfied: argon2-cffi in /usr/local/lib/python3.7/dist-packages (from jupyter-server~=1.16->jupyterlab==3.*,>=3.0.0->open3d) (21.3.0)\n",
      "Requirement already satisfied: pyzmq>=17 in /usr/local/lib/python3.7/dist-packages (from jupyter-server~=1.16->jupyterlab==3.*,>=3.0.0->open3d) (23.2.0)\n",
      "Collecting websocket-client\n",
      "  Downloading websocket_client-1.3.3-py3-none-any.whl (54 kB)\n",
      "\u001b[K     |████████████████████████████████| 54 kB 3.2 MB/s \n",
      "\u001b[?25hRequirement already satisfied: Send2Trash in /usr/local/lib/python3.7/dist-packages (from jupyter-server~=1.16->jupyterlab==3.*,>=3.0.0->open3d) (1.8.0)\n",
      "Collecting nbconvert>=6.4.4\n",
      "  Downloading nbconvert-6.5.0-py3-none-any.whl (561 kB)\n",
      "\u001b[K     |████████████████████████████████| 561 kB 51.6 MB/s \n",
      "\u001b[?25hCollecting anyio<4,>=3.1.0\n",
      "  Downloading anyio-3.6.1-py3-none-any.whl (80 kB)\n",
      "\u001b[K     |████████████████████████████████| 80 kB 11.2 MB/s \n",
      "\u001b[?25hRequirement already satisfied: prometheus-client in /usr/local/lib/python3.7/dist-packages (from jupyter-server~=1.16->jupyterlab==3.*,>=3.0.0->open3d) (0.14.1)\n",
      "Requirement already satisfied: nbformat>=5.2.0 in /usr/local/lib/python3.7/dist-packages (from jupyter-server~=1.16->jupyterlab==3.*,>=3.0.0->open3d) (5.4.0)\n",
      "Collecting jupyter-client\n",
      "  Downloading jupyter_client-7.3.4-py3-none-any.whl (132 kB)\n",
      "\u001b[K     |████████████████████████████████| 132 kB 54.6 MB/s \n",
      "\u001b[?25hRequirement already satisfied: terminado>=0.8.3 in /usr/local/lib/python3.7/dist-packages (from jupyter-server~=1.16->jupyterlab==3.*,>=3.0.0->open3d) (0.13.3)\n",
      "Requirement already satisfied: typing-extensions in /usr/local/lib/python3.7/dist-packages (from anyio<4,>=3.1.0->jupyter-server~=1.16->jupyterlab==3.*,>=3.0.0->open3d) (4.1.1)\n",
      "Requirement already satisfied: idna>=2.8 in /usr/local/lib/python3.7/dist-packages (from anyio<4,>=3.1.0->jupyter-server~=1.16->jupyterlab==3.*,>=3.0.0->open3d) (2.10)\n",
      "Collecting sniffio>=1.1\n",
      "  Downloading sniffio-1.2.0-py3-none-any.whl (10 kB)\n",
      "Requirement already satisfied: entrypoints in /usr/local/lib/python3.7/dist-packages (from jupyter-client->ipykernel>=4.5.1->ipywidgets>=7.6.0->open3d) (0.4)\n",
      "Requirement already satisfied: nest-asyncio>=1.5.4 in /usr/local/lib/python3.7/dist-packages (from jupyter-client->ipykernel>=4.5.1->ipywidgets>=7.6.0->open3d) (1.5.5)\n",
      "Requirement already satisfied: python-dateutil>=2.8.2 in /usr/local/lib/python3.7/dist-packages (from jupyter-client->ipykernel>=4.5.1->ipywidgets>=7.6.0->open3d) (2.8.2)\n",
      "Collecting jinja2>=2.1\n",
      "  Downloading Jinja2-3.1.2-py3-none-any.whl (133 kB)\n",
      "\u001b[K     |████████████████████████████████| 133 kB 57.4 MB/s \n",
      "\u001b[?25hRequirement already satisfied: requests in /usr/local/lib/python3.7/dist-packages (from jupyterlab-server~=2.10->jupyterlab==3.*,>=3.0.0->open3d) (2.23.0)\n",
      "Requirement already satisfied: jsonschema>=3.0.1 in /usr/local/lib/python3.7/dist-packages (from jupyterlab-server~=2.10->jupyterlab==3.*,>=3.0.0->open3d) (4.3.3)\n",
      "Requirement already satisfied: importlib-metadata>=3.6 in /usr/local/lib/python3.7/dist-packages (from jupyterlab-server~=2.10->jupyterlab==3.*,>=3.0.0->open3d) (4.12.0)\n",
      "Collecting json5\n",
      "  Downloading json5-0.9.8.tar.gz (22 kB)\n",
      "Requirement already satisfied: babel in /usr/local/lib/python3.7/dist-packages (from jupyterlab-server~=2.10->jupyterlab==3.*,>=3.0.0->open3d) (2.10.3)\n",
      "Requirement already satisfied: zipp>=0.5 in /usr/local/lib/python3.7/dist-packages (from importlib-metadata>=3.6->jupyterlab-server~=2.10->jupyterlab==3.*,>=3.0.0->open3d) (3.8.1)\n",
      "Requirement already satisfied: attrs>=17.4.0 in /usr/local/lib/python3.7/dist-packages (from jsonschema>=3.0.1->jupyterlab-server~=2.10->jupyterlab==3.*,>=3.0.0->open3d) (21.4.0)\n",
      "Requirement already satisfied: importlib-resources>=1.4.0 in /usr/local/lib/python3.7/dist-packages (from jsonschema>=3.0.1->jupyterlab-server~=2.10->jupyterlab==3.*,>=3.0.0->open3d) (5.8.0)\n",
      "Requirement already satisfied: pyrsistent!=0.17.0,!=0.17.1,!=0.17.2,>=0.14.0 in /usr/local/lib/python3.7/dist-packages (from jsonschema>=3.0.1->jupyterlab-server~=2.10->jupyterlab==3.*,>=3.0.0->open3d) (0.18.1)\n",
      "Requirement already satisfied: pyparsing!=2.0.4,!=2.1.2,!=2.1.6,>=2.0.1 in /usr/local/lib/python3.7/dist-packages (from matplotlib>=3->open3d) (3.0.9)\n",
      "Requirement already satisfied: kiwisolver>=1.0.1 in /usr/local/lib/python3.7/dist-packages (from matplotlib>=3->open3d) (1.4.4)\n",
      "Requirement already satisfied: cycler>=0.10 in /usr/local/lib/python3.7/dist-packages (from matplotlib>=3->open3d) (0.11.0)\n",
      "Requirement already satisfied: nbclient>=0.5.0 in /usr/local/lib/python3.7/dist-packages (from nbconvert>=6.4.4->jupyter-server~=1.16->jupyterlab==3.*,>=3.0.0->open3d) (0.6.6)\n",
      "Requirement already satisfied: jupyterlab-pygments in /usr/local/lib/python3.7/dist-packages (from nbconvert>=6.4.4->jupyter-server~=1.16->jupyterlab==3.*,>=3.0.0->open3d) (0.2.2)\n",
      "Requirement already satisfied: defusedxml in /usr/local/lib/python3.7/dist-packages (from nbconvert>=6.4.4->jupyter-server~=1.16->jupyterlab==3.*,>=3.0.0->open3d) (0.7.1)\n",
      "Requirement already satisfied: mistune<2,>=0.8.1 in /usr/local/lib/python3.7/dist-packages (from nbconvert>=6.4.4->jupyter-server~=1.16->jupyterlab==3.*,>=3.0.0->open3d) (0.8.4)\n",
      "Requirement already satisfied: tinycss2 in /usr/local/lib/python3.7/dist-packages (from nbconvert>=6.4.4->jupyter-server~=1.16->jupyterlab==3.*,>=3.0.0->open3d) (1.1.1)\n",
      "Requirement already satisfied: bleach in /usr/local/lib/python3.7/dist-packages (from nbconvert>=6.4.4->jupyter-server~=1.16->jupyterlab==3.*,>=3.0.0->open3d) (5.0.1)\n",
      "Requirement already satisfied: beautifulsoup4 in /usr/local/lib/python3.7/dist-packages (from nbconvert>=6.4.4->jupyter-server~=1.16->jupyterlab==3.*,>=3.0.0->open3d) (4.6.3)\n",
      "Requirement already satisfied: pandocfilters>=1.4.1 in /usr/local/lib/python3.7/dist-packages (from nbconvert>=6.4.4->jupyter-server~=1.16->jupyterlab==3.*,>=3.0.0->open3d) (1.5.0)\n",
      "Collecting traitlets>=4.3.1\n",
      "  Downloading traitlets-5.3.0-py3-none-any.whl (106 kB)\n",
      "\u001b[K     |████████████████████████████████| 106 kB 27.1 MB/s \n",
      "\u001b[?25hRequirement already satisfied: fastjsonschema in /usr/local/lib/python3.7/dist-packages (from nbformat>=5.2.0->jupyter-server~=1.16->jupyterlab==3.*,>=3.0.0->open3d) (2.16.1)\n",
      "Requirement already satisfied: pytz>=2017.3 in /usr/local/lib/python3.7/dist-packages (from pandas>=1.0->open3d) (2022.1)\n",
      "Requirement already satisfied: wcwidth in /usr/local/lib/python3.7/dist-packages (from prompt-toolkit<2.0.0,>=1.0.4->ipython->jupyterlab==3.*,>=3.0.0->open3d) (0.2.5)\n",
      "Requirement already satisfied: six>=1.9.0 in /usr/local/lib/python3.7/dist-packages (from prompt-toolkit<2.0.0,>=1.0.4->ipython->jupyterlab==3.*,>=3.0.0->open3d) (1.15.0)\n",
      "Requirement already satisfied: joblib>=0.11 in /usr/local/lib/python3.7/dist-packages (from scikit-learn>=0.21->open3d) (1.1.0)\n",
      "Requirement already satisfied: threadpoolctl>=2.0.0 in /usr/local/lib/python3.7/dist-packages (from scikit-learn>=0.21->open3d) (3.1.0)\n",
      "Requirement already satisfied: ptyprocess in /usr/local/lib/python3.7/dist-packages (from terminado>=0.8.3->jupyter-server~=1.16->jupyterlab==3.*,>=3.0.0->open3d) (0.7.0)\n",
      "Requirement already satisfied: google-auth<3,>=1.6.3 in /usr/local/lib/python3.7/dist-packages (from tensorboard) (1.35.0)\n",
      "Requirement already satisfied: werkzeug>=0.11.15 in /usr/local/lib/python3.7/dist-packages (from tensorboard) (1.0.1)\n",
      "Requirement already satisfied: tensorboard-plugin-wit>=1.6.0 in /usr/local/lib/python3.7/dist-packages (from tensorboard) (1.8.1)\n",
      "Requirement already satisfied: markdown>=2.6.8 in /usr/local/lib/python3.7/dist-packages (from tensorboard) (3.4.1)\n",
      "Requirement already satisfied: tensorboard-data-server<0.7.0,>=0.6.0 in /usr/local/lib/python3.7/dist-packages (from tensorboard) (0.6.1)\n",
      "Requirement already satisfied: grpcio>=1.24.3 in /usr/local/lib/python3.7/dist-packages (from tensorboard) (1.47.0)\n",
      "Requirement already satisfied: absl-py>=0.4 in /usr/local/lib/python3.7/dist-packages (from tensorboard) (1.2.0)\n",
      "Requirement already satisfied: google-auth-oauthlib<0.5,>=0.4.1 in /usr/local/lib/python3.7/dist-packages (from tensorboard) (0.4.6)\n",
      "Requirement already satisfied: protobuf>=3.6.0 in /usr/local/lib/python3.7/dist-packages (from tensorboard) (3.17.3)\n",
      "Requirement already satisfied: rsa<5,>=3.1.4 in /usr/local/lib/python3.7/dist-packages (from google-auth<3,>=1.6.3->tensorboard) (4.8)\n",
      "Requirement already satisfied: pyasn1-modules>=0.2.1 in /usr/local/lib/python3.7/dist-packages (from google-auth<3,>=1.6.3->tensorboard) (0.2.8)\n",
      "Requirement already satisfied: cachetools<5.0,>=2.0.0 in /usr/local/lib/python3.7/dist-packages (from google-auth<3,>=1.6.3->tensorboard) (4.2.4)\n",
      "Requirement already satisfied: requests-oauthlib>=0.7.0 in /usr/local/lib/python3.7/dist-packages (from google-auth-oauthlib<0.5,>=0.4.1->tensorboard) (1.3.1)\n",
      "Requirement already satisfied: pyasn1<0.5.0,>=0.4.6 in /usr/local/lib/python3.7/dist-packages (from pyasn1-modules>=0.2.1->google-auth<3,>=1.6.3->tensorboard) (0.4.8)\n",
      "Requirement already satisfied: urllib3!=1.25.0,!=1.25.1,<1.26,>=1.21.1 in /usr/local/lib/python3.7/dist-packages (from requests->jupyterlab-server~=2.10->jupyterlab==3.*,>=3.0.0->open3d) (1.24.3)\n",
      "Requirement already satisfied: chardet<4,>=3.0.2 in /usr/local/lib/python3.7/dist-packages (from requests->jupyterlab-server~=2.10->jupyterlab==3.*,>=3.0.0->open3d) (3.0.4)\n",
      "Requirement already satisfied: certifi>=2017.4.17 in /usr/local/lib/python3.7/dist-packages (from requests->jupyterlab-server~=2.10->jupyterlab==3.*,>=3.0.0->open3d) (2022.6.15)\n",
      "Requirement already satisfied: oauthlib>=3.0.0 in /usr/local/lib/python3.7/dist-packages (from requests-oauthlib>=0.7.0->google-auth-oauthlib<0.5,>=0.4.1->tensorboard) (3.2.0)\n",
      "Requirement already satisfied: argon2-cffi-bindings in /usr/local/lib/python3.7/dist-packages (from argon2-cffi->jupyter-server~=1.16->jupyterlab==3.*,>=3.0.0->open3d) (21.2.0)\n",
      "Requirement already satisfied: cffi>=1.0.1 in /usr/local/lib/python3.7/dist-packages (from argon2-cffi-bindings->argon2-cffi->jupyter-server~=1.16->jupyterlab==3.*,>=3.0.0->open3d) (1.15.1)\n",
      "Requirement already satisfied: pycparser in /usr/local/lib/python3.7/dist-packages (from cffi>=1.0.1->argon2-cffi-bindings->argon2-cffi->jupyter-server~=1.16->jupyterlab==3.*,>=3.0.0->open3d) (2.21)\n",
      "Requirement already satisfied: webencodings in /usr/local/lib/python3.7/dist-packages (from bleach->nbconvert>=6.4.4->jupyter-server~=1.16->jupyterlab==3.*,>=3.0.0->open3d) (0.5.1)\n",
      "Collecting notebook-shim>=0.1.0\n",
      "  Downloading notebook_shim-0.1.0-py3-none-any.whl (13 kB)\n",
      "Building wheels for collected packages: json5\n",
      "  Building wheel for json5 (setup.py) ... \u001b[?25l\u001b[?25hdone\n",
      "  Created wheel for json5: filename=json5-0.9.8-py2.py3-none-any.whl size=18604 sha256=ec3dfb7254681a33a7a50bfa3a397f4b00881d2f3f1732725bb732299a80d3ac\n",
      "  Stored in directory: /root/.cache/pip/wheels/ac/9b/de/6e4fd8f159d3dfa42c42ceddf2184fda29ea7fb1e8f5f8371c\n",
      "Successfully built json5\n",
      "Installing collected packages: traitlets, tornado, jupyter-client, sniffio, setuptools, pygments, jinja2, websocket-client, nbconvert, anyio, jupyter-server, notebook-shim, json5, tomlkit, nbclassic, jupyterlab-server, deprecation, pyyaml, pyquaternion, pillow, jupyterlab, jupyter-packaging, addict, trimesh, robust-laplacian, potpourri3d, open3d\n",
      "  Attempting uninstall: traitlets\n",
      "    Found existing installation: traitlets 5.1.1\n",
      "    Uninstalling traitlets-5.1.1:\n",
      "      Successfully uninstalled traitlets-5.1.1\n",
      "  Attempting uninstall: tornado\n",
      "    Found existing installation: tornado 5.1.1\n",
      "    Uninstalling tornado-5.1.1:\n",
      "      Successfully uninstalled tornado-5.1.1\n",
      "  Attempting uninstall: jupyter-client\n",
      "    Found existing installation: jupyter-client 5.3.5\n",
      "    Uninstalling jupyter-client-5.3.5:\n",
      "      Successfully uninstalled jupyter-client-5.3.5\n",
      "  Attempting uninstall: setuptools\n",
      "    Found existing installation: setuptools 57.4.0\n",
      "    Uninstalling setuptools-57.4.0:\n",
      "      Successfully uninstalled setuptools-57.4.0\n",
      "  Attempting uninstall: pygments\n",
      "    Found existing installation: Pygments 2.6.1\n",
      "    Uninstalling Pygments-2.6.1:\n",
      "      Successfully uninstalled Pygments-2.6.1\n",
      "  Attempting uninstall: jinja2\n",
      "    Found existing installation: Jinja2 2.11.3\n",
      "    Uninstalling Jinja2-2.11.3:\n",
      "      Successfully uninstalled Jinja2-2.11.3\n",
      "  Attempting uninstall: nbconvert\n",
      "    Found existing installation: nbconvert 5.6.1\n",
      "    Uninstalling nbconvert-5.6.1:\n",
      "      Successfully uninstalled nbconvert-5.6.1\n",
      "  Attempting uninstall: pyyaml\n",
      "    Found existing installation: PyYAML 3.13\n",
      "    Uninstalling PyYAML-3.13:\n",
      "      Successfully uninstalled PyYAML-3.13\n",
      "  Attempting uninstall: pillow\n",
      "    Found existing installation: Pillow 7.1.2\n",
      "    Uninstalling Pillow-7.1.2:\n",
      "      Successfully uninstalled Pillow-7.1.2\n"
     ]
    }
   ],
   "source": [
    "!pip install potpourri3d robust_laplacian open3d trimesh tensorboard"
   ]
  },
  {
   "cell_type": "markdown",
   "metadata": {},
   "source": [
    "Before this, run split_data_DA"
   ]
  },
  {
   "cell_type": "code",
   "execution_count": 14,
   "metadata": {
    "id": "ibY8LIGRQEhd"
   },
   "outputs": [],
   "source": [
    "import torch"
   ]
  },
  {
   "cell_type": "code",
   "execution_count": 15,
   "metadata": {
    "id": "KkPsFSk6QEhd"
   },
   "outputs": [],
   "source": [
    "torch.cuda.empty_cache()"
   ]
  },
  {
   "cell_type": "markdown",
   "metadata": {
    "id": "d9SegfV7QEhe"
   },
   "source": [
    "# Train and evaluate dpfm model"
   ]
  },
  {
   "cell_type": "code",
   "execution_count": 16,
   "metadata": {
    "colab": {
     "background_save": true
    },
    "id": "yj5y_wU3jZh6"
   },
   "outputs": [],
   "source": [
    "import yaml\n",
    "from dann.main import main\n",
    "from dann.test import test_target, test_source\n",
    "from project.datasets import Tosca\n",
    "from project.train_dpfm import train_net\n",
    "from project.eval_dpfm import eval_net\n",
    "from dann.main_test import main_test"
   ]
  },
  {
   "cell_type": "code",
   "execution_count": 17,
   "metadata": {
    "colab": {
     "background_save": true
    },
    "id": "h2S8whHvjZiB"
   },
   "outputs": [],
   "source": [
    "cfg = yaml.safe_load(open(f\"dann/config/tosca_cuts.yaml\", \"r\"))\n",
    "source_domain_path = '../data/Tosca_DA/source/train'\n",
    "target_domain_path = '../data/Tosca_DA/target/train'\n",
    "source_test_path = '../data/Tosca_DA/source/test'\n",
    "target_test_path = '../data/Tosca_DA/target/test'\n",
    "torch.cuda.empty_cache()\n"
   ]
  },
  {
   "cell_type": "code",
   "execution_count": 18,
   "metadata": {
    "colab": {
     "background_save": true
    },
    "id": "3MINkj0ROGV_"
   },
   "outputs": [
    {
     "name": "stdout",
     "output_type": "stream",
     "text": [
      "The tensorboard extension is already loaded. To reload it, use:\n",
      "  %reload_ext tensorboard\n"
     ]
    }
   ],
   "source": [
    "# Load the TensorBoard notebook extension\n",
    "%load_ext tensorboard\n",
    "\n",
    "# Clear any logs from previous runs\n",
    "# !rm -rf ./runs/ "
   ]
  },
  {
   "cell_type": "code",
   "execution_count": 19,
   "metadata": {
    "colab": {
     "background_save": true
    },
    "id": "4Afoh7qGO-AX"
   },
   "outputs": [
    {
     "data": {
      "text/html": [
       "\n",
       "      <iframe id=\"tensorboard-frame-3a873cf9d9aa9cec\" width=\"100%\" height=\"800\" frameborder=\"0\">\n",
       "      </iframe>\n",
       "      <script>\n",
       "        (function() {\n",
       "          const frame = document.getElementById(\"tensorboard-frame-3a873cf9d9aa9cec\");\n",
       "          const url = new URL(\"/\", window.location);\n",
       "          const port = 6006;\n",
       "          if (port) {\n",
       "            url.port = port;\n",
       "          }\n",
       "          frame.src = url;\n",
       "        })();\n",
       "      </script>\n",
       "    "
      ],
      "text/plain": [
       "<IPython.core.display.HTML object>"
      ]
     },
     "metadata": {},
     "output_type": "display_data"
    }
   ],
   "source": [
    "%tensorboard --logdir runs \n"
   ]
  },
  {
   "cell_type": "code",
   "execution_count": null,
   "metadata": {
    "colab": {
     "background_save": true
    },
    "id": "Z6Eq_zscjZi8",
    "scrolled": false
   },
   "outputs": [
    {
     "name": "stdout",
     "output_type": "stream",
     "text": [
      "using dataset cache path: ../data/Tosca_DA/source/train\\cache_cuts_train.pt\n",
      "  --> dataset not in cache, repopulating\n",
      "loading mesh cat0_partial1\n",
      "loading mesh cat0_partial2\n",
      "loading mesh cat0_partial3\n",
      "loading mesh cat0_partial5\n",
      "loading mesh cat0_partial6\n",
      "loading mesh cat10_partial1\n",
      "loading mesh cat10_partial2\n",
      "loading mesh cat10_partial4\n",
      "loading mesh cat10_partial5\n",
      "loading mesh cat10_partial6\n",
      "loading mesh cat1_partial1\n",
      "loading mesh cat1_partial2\n",
      "loading mesh cat1_partial3\n",
      "loading mesh cat1_partial4\n",
      "loading mesh cat2_partial1\n",
      "loading mesh cat2_partial2\n",
      "loading mesh cat2_partial4\n",
      "loading mesh cat2_partial5\n",
      "loading mesh cat2_partial6\n",
      "loading mesh cat3_partial1\n",
      "loading mesh cat3_partial2\n",
      "loading mesh cat3_partial3\n",
      "loading mesh cat3_partial6\n",
      "loading mesh cat4_partial1\n",
      "loading mesh cat4_partial2\n",
      "loading mesh cat4_partial3\n",
      "loading mesh cat4_partial4\n",
      "loading mesh cat4_partial5\n",
      "loading mesh cat4_partial6\n",
      "loading mesh cat5_partial1\n",
      "loading mesh cat5_partial2\n",
      "loading mesh cat5_partial5\n",
      "loading mesh cat5_partial6\n",
      "loading mesh cat6_partial1\n",
      "loading mesh cat6_partial3\n",
      "loading mesh cat6_partial5\n",
      "loading mesh cat6_partial6\n",
      "loading mesh cat7_partial1\n",
      "loading mesh cat7_partial2\n",
      "loading mesh cat7_partial3\n",
      "loading mesh cat7_partial4\n",
      "loading mesh cat7_partial6\n",
      "loading mesh cat8_partial3\n",
      "loading mesh cat8_partial4\n",
      "loading mesh cat8_partial5\n",
      "loading mesh cat8_partial6\n",
      "loading mesh cat9_partial1\n",
      "loading mesh cat9_partial2\n",
      "loading mesh cat9_partial3\n",
      "loading mesh cat9_partial4\n",
      "loading mesh cat9_partial6\n",
      "loading mesh dog0_partial1\n",
      "loading mesh dog0_partial3\n",
      "loading mesh dog0_partial4\n",
      "loading mesh dog0_partial5\n",
      "loading mesh dog0_partial6\n",
      "loading mesh dog10_partial1\n",
      "loading mesh dog10_partial2\n",
      "loading mesh dog10_partial3\n",
      "loading mesh dog10_partial5\n",
      "loading mesh dog10_partial6\n",
      "loading mesh dog1_partial1\n",
      "loading mesh dog1_partial2\n",
      "loading mesh dog1_partial3\n",
      "loading mesh dog1_partial4\n",
      "loading mesh dog1_partial5\n",
      "loading mesh dog2_partial1\n",
      "loading mesh dog2_partial2\n",
      "loading mesh dog2_partial4\n",
      "loading mesh dog2_partial5\n",
      "loading mesh dog2_partial6\n",
      "loading mesh dog3_partial1\n",
      "loading mesh dog3_partial3\n",
      "loading mesh dog3_partial4\n",
      "loading mesh dog3_partial5\n",
      "loading mesh dog3_partial6\n",
      "loading mesh dog5_partial1\n",
      "loading mesh dog5_partial2\n",
      "loading mesh dog5_partial3\n",
      "loading mesh dog5_partial5\n",
      "loading mesh dog6_partial1\n",
      "loading mesh dog6_partial2\n",
      "loading mesh dog6_partial3\n",
      "loading mesh dog6_partial4\n",
      "loading mesh dog6_partial5\n",
      "loading mesh dog6_partial6\n",
      "loading mesh dog7_partial1\n",
      "loading mesh dog7_partial2\n",
      "loading mesh dog7_partial3\n",
      "loading mesh dog7_partial4\n",
      "loading mesh dog7_partial5\n",
      "loading mesh dog7_partial6\n",
      "loading mesh dog8_partial1\n",
      "loading mesh dog8_partial2\n",
      "loading mesh dog8_partial3\n",
      "loading mesh dog8_partial4\n"
     ]
    }
   ],
   "source": [
    "main(source_domain_path,target_domain_path,cfg)"
   ]
  },
  {
   "cell_type": "markdown",
   "metadata": {
    "id": "VIRQn1tBQEhj"
   },
   "source": [
    "**Note**: Change model path to your respective path"
   ]
  },
  {
   "cell_type": "markdown",
   "metadata": {
    "id": "H5owMbZ3QEhj"
   },
   "source": [
    "### FM evaluation"
   ]
  },
  {
   "cell_type": "code",
   "execution_count": null,
   "metadata": {
    "colab": {
     "background_save": true
    },
    "id": "ykckuH4pjZi-"
   },
   "outputs": [],
   "source": [
    "pred_p2p_list_tgt, pred_p2p_list_src = main_test(source_test_path, target_test_path, 'trained_models/try1_try_dann.pt', cfg, 'dann/data/dann/test_tosca.pt', n_samples=None)\n"
   ]
  },
  {
   "cell_type": "code",
   "execution_count": null,
   "metadata": {
    "colab": {
     "background_save": true
    },
    "id": "-Z9Akq8EQEhk"
   },
   "outputs": [],
   "source": [
    "#p2p_fm, distances_fm = eval_net(cfg, \"project/data/saved_models_cuts_3/ep_49.pth\", \"data/eval/test_tosca.pt\", return_pred_p2p=True, return_dist=True, mode=\"FM\")"
   ]
  },
  {
   "cell_type": "markdown",
   "metadata": {
    "id": "37w1Eg2nQEhk"
   },
   "source": [
    "### CFM evaluation"
   ]
  },
  {
   "cell_type": "code",
   "execution_count": null,
   "metadata": {
    "colab": {
     "background_save": true
    },
    "id": "d2NH-qtUQEhl"
   },
   "outputs": [],
   "source": [
    "#p2p_cfm, distances_cfm = eval_net(cfg,\"project/data/saved_models_cuts_3/ep_49.pth\", \"data/eval/test_tosca.pt\", return_pred_p2p=True, return_dist=True, mode=\"CFM\")"
   ]
  },
  {
   "cell_type": "markdown",
   "metadata": {
    "id": "bWl7R07sQEhl"
   },
   "source": [
    "# Plot results"
   ]
  },
  {
   "cell_type": "markdown",
   "metadata": {
    "id": "166qlnsMGIFt"
   },
   "source": [
    "# Notes\n",
    "- Trained on 26 shapes, tested on 6 shapes (80/20 train/test split)\n",
    "- Training process seems to work well, can't tell if it's overfitting due to lack of validation implementation\n",
    "- Errors:\n",
    "  - WKS: 5.99\n",
    "  - DPFM trained on 26 shapes: 0.66\n",
    "  - DPFM trained on 60% of TOSCA: 0.50\n",
    "- Compared to FM with hand-crafted descriptors (WKS): 5.99 <-> 0.66 (mean normalized geodesic error)\n",
    "- Improvements:\n",
    "  - validation set implementation\n",
    "  - tensorboard visualization\n",
    "  - lr scheduler from pytorch\n",
    "  - inference is slow, mostly done on CPU, transfer to GPU\n",
    "- Next steps:\n",
    "  - double check all dataloaders & FM to p2p conversions\n",
    "  - training on whole partial-to-full dataset (TOSCA), or mix full-to-full & partial-to-full, e.g. warm start with model pre-trained on an easier problem, i.e. full-to-full\n",
    "  - combine model w/ coupled FM\n",
    "  - implement gradient clipping\n",
    "  - apply trained descriptors to CFM\n"
   ]
  },
  {
   "cell_type": "markdown",
   "metadata": {
    "id": "lk3aEhl6GACe"
   },
   "source": [
    "# Change log\n",
    "\n",
    "- Remove data augmentation in validation step\n",
    "- LR scheduler decaying too fast, use reduceLROnPlateau() with average validation loss\n",
    "- use average of train and val loss for evaluation\n",
    "- implement tensorboard logging"
   ]
  },
  {
   "cell_type": "markdown",
   "metadata": {
    "id": "wNKDrvzMOxGi"
   },
   "source": [
    "# Done\n",
    "- trained model for 39 epochs on all shapes, good training error, val error is very high, might be a bug"
   ]
  }
 ],
 "metadata": {
  "@webio": {
   "lastCommId": null,
   "lastKernelId": null
  },
  "accelerator": "GPU",
  "colab": {
   "collapsed_sections": [],
   "name": "da_example_notebook.ipynb",
   "version": ""
  },
  "interpreter": {
   "hash": "e956ee7660bdd64c6d0f8ca0a4d1ec0d49840f6dce9aa7b6de62a1b26319698c"
  },
  "kernelspec": {
   "display_name": "Python 3 (ipykernel)",
   "language": "python",
   "name": "python3"
  },
  "language_info": {
   "codemirror_mode": {
    "name": "ipython",
    "version": 3
   },
   "file_extension": ".py",
   "mimetype": "text/x-python",
   "name": "python",
   "nbconvert_exporter": "python",
   "pygments_lexer": "ipython3",
   "version": "3.9.12"
  }
 },
 "nbformat": 4,
 "nbformat_minor": 1
}
