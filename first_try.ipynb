{
 "cells": [
  {
   "cell_type": "markdown",
   "id": "0b693fed",
   "metadata": {},
   "source": [
    "# 1 - Imports and defining functions"
   ]
  },
  {
   "cell_type": "code",
   "execution_count": null,
   "id": "1b0c0ca6",
   "metadata": {},
   "outputs": [],
   "source": [
    "import matplotlib.pyplot as plt\n",
    "import open3d as o3d\n",
    "import numpy as np\n",
    "import torch\n",
    "import scipy.optimize as so\n",
    "import meshplot as mp\n",
    "\n",
    "import pyFM.spectral as spectral\n",
    "from pyFM.mesh import TriMesh\n",
    "from pyFM.functional import FunctionalMapping\n",
    "from project.cfunctional import CoupledFunctionalMapping\n",
    "from project.trimesh import TriMeshPly\n",
    "import project.utils as file_utils\n",
    "import meshplot as mp\n",
    "\n",
    "def plot_mesh(myMesh,cmap=None):\n",
    "    mp.plot(myMesh.vertlist, myMesh.facelist,c=cmap)\n",
    "    \n",
    "def double_plot(myMesh1,myMesh2,cmap1=None,cmap2=None):\n",
    "    d = mp.subplot(myMesh1.vertlist, myMesh1.facelist, c=cmap1, s=[2, 2, 0])\n",
    "    mp.subplot(myMesh2.vertlist, myMesh2.facelist, c=cmap2, s=[2, 2, 1], data=d)\n",
    "\n",
    "def visu(vertices):\n",
    "    min_coord,max_coord = np.min(vertices,axis=0,keepdims=True),np.max(vertices,axis=0,keepdims=True)\n",
    "    cmap = (vertices-min_coord)/(max_coord-min_coord)\n",
    "    return cmap\n",
    "        \n",
    "def plot_ply(infile):\n",
    "        \n",
    "    fig = plt.figure()\n",
    "    ax = fig.add_subplot(111, projection='3d')\n",
    "    x,y,z = get_pts(infile)\n",
    "    ax.scatter(x, y, z, c='r', marker='o')\n",
    "    ax.set_xlabel('X Label')\n",
    "    ax.set_ylabel('Y Label')\n",
    "    ax.set_zlabel('Z Label')\n",
    "    plt.show()\n",
    " \n"
   ]
  },
  {
   "cell_type": "markdown",
   "id": "c0f20b69",
   "metadata": {},
   "source": [
    "# 2 - Try with the FAUST dataset"
   ]
  },
  {
   "cell_type": "markdown",
   "id": "b646ffef",
   "metadata": {},
   "source": [
    "**Loading meshes from FAUST dataset***"
   ]
  },
  {
   "cell_type": "markdown",
   "id": "2ec6a04b",
   "metadata": {},
   "source": [
    "Create the TriMesh class can be created from a path. With the load_ply we use two meshes from the FAUST dataset "
   ]
  },
  {
   "cell_type": "code",
   "execution_count": null,
   "id": "a152d8ad",
   "metadata": {},
   "outputs": [],
   "source": [
    "FAUST_path_1 = str(\"../../data/MPI-FAUST_dev/training/registrations/tr_reg_000.ply\")\n",
    "FAUST_path_2 = str(\"../../data/MPI-FAUST_dev/training/registrations/tr_reg_001.ply\")\n",
    "\n",
    "\n",
    "mesh1 = TriMeshPly(FAUST_path_1)\n",
    "mesh2 = TriMeshPly(FAUST_path_2)\n",
    "\n",
    "\n",
    "print(f'Mesh 1 : {mesh1.n_vertices:4d} vertices, {mesh1.n_faces:5d} faces\\n'\n",
    "      f'Mesh 2 : {mesh2.n_vertices:4d} vertices, {mesh2.n_faces:5d} faces')\n",
    "\n",
    "double_plot(mesh1,mesh2)"
   ]
  },
  {
   "cell_type": "markdown",
   "id": "744cd86e",
   "metadata": {},
   "source": [
    "**Computing descriptors for the functional map**"
   ]
  },
  {
   "cell_type": "code",
   "execution_count": null,
   "id": "b7cf06b9",
   "metadata": {},
   "outputs": [],
   "source": [
    "process_params = {\n",
    "    'n_ev': (35,35),  # Number of eigenvalues on source and Target\n",
    "#    'landmarks': np.loadtxt('data/landmarks.txt',dtype=int)[:5], #loading 5 landmarks\n",
    "    'subsample_step': 5,  # In order not to use too many descriptors\n",
    "    'descr_type': 'WKS',  # WKS or HKS\n",
    "}\n",
    "\n",
    "model = FunctionalMapping(mesh1,mesh2)\n",
    "model.preprocess(**process_params,verbose=True);\n"
   ]
  },
  {
   "cell_type": "markdown",
   "id": "7b938caa",
   "metadata": {},
   "source": [
    "**Fitting the model for the functional map**"
   ]
  },
  {
   "cell_type": "markdown",
   "id": "4615fc6a",
   "metadata": {},
   "source": [
    "$\\newcommand{\\RR}{\\mathbb{R}}$\n",
    "$\\newcommand{\\Ss}{\\mathcal{S}}$\n",
    "$\\newcommand{\\uargmin}[1]{\\underset{#1}{\\text{argmin}}\\;}$\n",
    "$\\newcommand{\\uargmax}[1]{\\underset{#1}{\\text{argmax}}\\;}$\n",
    "$\\def\\*#1{\\mathbf{#1}}$\n",
    "\n",
    "Compute the functional map $\\*C:\\Ss_1\\to\\Ss_2$:\n",
    "\n",
    "Optimization problem is\n",
    "\\begin{equation}\n",
    "\\uargmin{\\*C\\in\\RR^{k_2\\times k_1}} w_{descr}\\|\\*C\\*A - \\*B\\|^2 + w_{lap}\\|\\*C\\Delta_1 - \\Delta_2\\*C\\|^2 + w_{\\text{d- comm}}\\sum_i \\|\\*C\\Gamma_1^i - \\Gamma_2^i\\*C\\|^2 + w_{\\text{orient}}\\sum_i \\|\\*C\\Lambda_1^i - \\Lambda_2^i\\*C\\|^2\n",
    "\\end{equation}\n",
    "\n",
    "with $\\Gamma_1^i$ and $\\Gamma_2^i$ associated to the $i$-th descriptors, $\\Lambda_1^i$ and $\\Lambda_2^i$ associated to the $i$-th descriptors"
   ]
  },
  {
   "cell_type": "code",
   "execution_count": null,
   "id": "e3d3d176",
   "metadata": {},
   "outputs": [],
   "source": [
    "fit_params = {\n",
    "    'w_descr': 1e0,\n",
    "    'w_lap': 1e-2,\n",
    "    'w_dcomm': 1e-1,\n",
    "    'w_orient': 0\n",
    "}\n",
    "\n",
    "\n",
    "\n",
    "model.fit(**fit_params, verbose=True)"
   ]
  },
  {
   "cell_type": "markdown",
   "id": "69cb87e4",
   "metadata": {},
   "source": [
    "**Visualizing the associated point to point map**"
   ]
  },
  {
   "cell_type": "code",
   "execution_count": null,
   "id": "19dbe6ab",
   "metadata": {},
   "outputs": [],
   "source": [
    "p2p_21 = model.get_p2p(n_jobs=1)\n",
    "cmap1 = visu(mesh1.vertlist); cmap2 = cmap1[p2p_21]\n",
    "double_plot(mesh1,mesh2,cmap1,cmap2)"
   ]
  },
  {
   "cell_type": "code",
   "execution_count": null,
   "id": "9d3295ba",
   "metadata": {},
   "outputs": [],
   "source": [
    "gt_1 = np.loadtxt(\"../../data/MPI-FAUST_dev/training/ground_truth_vertices/tr_gt_000.txt\")\n",
    "gt_2 = np.loadtxt(\"../../data/MPI-FAUST_dev/training/ground_truth_vertices/tr_gt_001.txt\")\n",
    "print()"
   ]
  },
  {
   "cell_type": "markdown",
   "id": "45129d12",
   "metadata": {},
   "source": [
    "***Computing the descriptors for the coupled functional maps***"
   ]
  },
  {
   "cell_type": "code",
   "execution_count": null,
   "id": "cdd966e5",
   "metadata": {},
   "outputs": [],
   "source": [
    "process_params = {\n",
    "    'n_ev': (35,35),  # Number of eigenvalues on source and Target\n",
    "#    'landmarks': np.loadtxt('data/landmarks.txt',dtype=int)[:5], #loading 5 landmarks\n",
    "    'subsample_step': 5,  # In order not to use too many descriptors\n",
    "    'descr_type': 'WKS',  # WKS or HKS\n",
    "}\n",
    "\n",
    "model2 = CoupledFunctionalMapping(mesh1,mesh2)\n",
    "model2.preprocess(**process_params,verbose=True);"
   ]
  },
  {
   "cell_type": "markdown",
   "id": "199203be",
   "metadata": {},
   "source": [
    "**Fitting the model for the coupled functional maps**"
   ]
  },
  {
   "cell_type": "markdown",
   "id": "6d09eed4",
   "metadata": {},
   "source": [
    "$\\newcommand{\\RR}{\\mathbb{R}}$\n",
    "$\\newcommand{\\Ss}{\\mathcal{S}}$\n",
    "$\\newcommand{\\uargmin}[1]{\\underset{#1}{\\text{argmin}}\\;}$\n",
    "$\\newcommand{\\uargmax}[1]{\\underset{#1}{\\text{argmax}}\\;}$\n",
    "$\\def\\*#1{\\mathbf{#1}}$\n",
    "\n",
    "Compute the coupled functional maps $\\*C_1:\\Ss_1\\to\\Ss_2$ and $\\*C_2:\\Ss_2\\to\\Ss_1$:\n",
    "\n",
    "Optimization problem is\n",
    "\\begin{equation}\n",
    "\\uargmin{\\*C\\in\\RR^{k_2\\times k_1},\\*C\\in\\RR^{k_1\\times k_2}} \\|\\*C_1\\*A - \\*B\\|^2 + \\|\\*A-\\*C_2 \\*B\\|^2 + \\mu_{coup}\\|\\*C_1\\*C_2-\\*I\\|^2 + \\mu_{LB}\\|\\*C_1\\Delta_1 - \\Delta_2\\*C_1\\|^2 + \\mu_{LB}\\|\\*C_2^{T}\\Delta_1 - \\Delta_2\\*C_2^{T}\\|^2 \n",
    "\\end{equation}\n",
    "\n"
   ]
  },
  {
   "cell_type": "code",
   "execution_count": null,
   "id": "7ee879b9",
   "metadata": {},
   "outputs": [],
   "source": [
    "fit_params = {\n",
    "    'mu_coup': 1e0,\n",
    "    'mu_mask': 1e-1,\n",
    "    'mu_des': 1e-2\n",
    "}\n",
    "\n",
    "model2.fit(**fit_params, verbose=True)"
   ]
  },
  {
   "cell_type": "markdown",
   "id": "49ba3f1a",
   "metadata": {},
   "source": [
    "**Visualizing the associated point to point map**"
   ]
  },
  {
   "cell_type": "code",
   "execution_count": null,
   "id": "7e46351e",
   "metadata": {},
   "outputs": [],
   "source": [
    "cp2p = model2.get_p2p(n_jobs=1)\n",
    "cmap1 = visu(mesh1.vertlist); cmap2 = cmap1[cp2p]\n",
    "double_plot(mesh1,mesh2,cmap1,cmap2)"
   ]
  },
  {
   "cell_type": "markdown",
   "id": "ae368b98",
   "metadata": {},
   "source": [
    "# 3 - try with the cat-lion datas"
   ]
  },
  {
   "cell_type": "markdown",
   "id": "544ddc22",
   "metadata": {},
   "source": [
    "**Loading meshes of the cat and the Lion***"
   ]
  },
  {
   "cell_type": "code",
   "execution_count": null,
   "id": "5d380a0d",
   "metadata": {},
   "outputs": [],
   "source": [
    "cat_mesh = TriMesh('data/cat-00.off')\n",
    "lion_mesh = TriMesh('data/lion-00.off')\n",
    "print(f'Mesh 1 : {cat_mesh.n_vertices:4d} vertices, {cat_mesh.n_faces:5d} faces\\n'\n",
    "      f'Mesh 2 : {lion_mesh.n_vertices:4d} vertices, {lion_mesh.n_faces:5d} faces')"
   ]
  },
  {
   "cell_type": "markdown",
   "id": "926220fb",
   "metadata": {},
   "source": [
    "**Computing the descriptors**"
   ]
  },
  {
   "cell_type": "code",
   "execution_count": null,
   "id": "1ac6e482",
   "metadata": {},
   "outputs": [],
   "source": [
    "process_params = {\n",
    "    'n_ev': (35,35),  # Number of eigenvalues on source and Target\n",
    "    'landmarks': np.loadtxt('data/landmarks.txt',dtype=int)[:5],  # loading 5 landmarks\n",
    "    'subsample_step': 5,  # In order not to use too many descriptors\n",
    "    'descr_type': 'WKS',  # WKS or HKS\n",
    "}\n",
    "\n",
    "model1_CL = FunctionalMapping(cat_mesh,lion_mesh)\n",
    "model1_CL.preprocess(**process_params,verbose=True);"
   ]
  },
  {
   "cell_type": "markdown",
   "id": "9cc87866",
   "metadata": {},
   "source": [
    "**Fitting the model for the functional map**"
   ]
  },
  {
   "cell_type": "code",
   "execution_count": null,
   "id": "5eb840b1",
   "metadata": {
    "scrolled": true
   },
   "outputs": [],
   "source": [
    "fit_params = {\n",
    "    'w_descr': 1e0,\n",
    "    'w_lap': 1e3,\n",
    "    'w_dcomm': 1e-2,\n",
    "    'w_orient': 0\n",
    "}\n",
    "\n",
    "\n",
    "\n",
    "model1_CL.fit(**fit_params, verbose=True)"
   ]
  },
  {
   "cell_type": "markdown",
   "id": "2ccc9db5",
   "metadata": {},
   "source": [
    "**Visualizing the associated point to point map for the functional map**"
   ]
  },
  {
   "cell_type": "code",
   "execution_count": null,
   "id": "15707fae",
   "metadata": {},
   "outputs": [],
   "source": [
    "p2p_CL = model1_CL.get_p2p(n_jobs=1)\n",
    "cmap1 = visu(cat_mesh.vertlist); cmap2 = cmap1[p2p_CL]\n",
    "double_plot(cat_mesh,lion_mesh,cmap1,cmap2)"
   ]
  },
  {
   "cell_type": "markdown",
   "id": "2cba9e02",
   "metadata": {},
   "source": [
    "**Computing the descriptors**"
   ]
  },
  {
   "cell_type": "code",
   "execution_count": null,
   "id": "288deea4",
   "metadata": {},
   "outputs": [],
   "source": [
    "process_params = {\n",
    "    'n_ev': (35,35),  # Number of eigenvalues on source and Target\n",
    "    'landmarks': np.loadtxt('data/landmarks.txt',dtype=int)[:5], #loading 5 landmarks\n",
    "    'subsample_step': 5,  # In order not to use too many descriptors\n",
    "    'descr_type': 'WKS',  # WKS or HKS\n",
    "}\n",
    "\n",
    "\n",
    "\n",
    "model2_CL = CoupledFunctionalMapping(cat_mesh,lion_mesh)\n",
    "model2_CL.preprocess(**process_params,verbose=True);"
   ]
  },
  {
   "cell_type": "markdown",
   "id": "a4a8acff",
   "metadata": {},
   "source": [
    "**Fitting the model for the coupled functional map**"
   ]
  },
  {
   "cell_type": "code",
   "execution_count": null,
   "id": "428747c6",
   "metadata": {},
   "outputs": [],
   "source": [
    "fit_params = {\n",
    "    'mu_coup': 1e0,\n",
    "    'mu_mask': 1e-1,\n",
    "    'mu_des': 1e-2\n",
    "}\n",
    "\n",
    "model2_CL.fit(**fit_params, verbose=True)\n",
    "#print(model2.C1)"
   ]
  },
  {
   "cell_type": "markdown",
   "id": "c6d45a35",
   "metadata": {},
   "source": [
    "**Visualizing the associated point to point map for the coupled functional map**"
   ]
  },
  {
   "cell_type": "code",
   "execution_count": null,
   "id": "92c4fb17",
   "metadata": {
    "scrolled": true
   },
   "outputs": [],
   "source": [
    "cp2p_CL = model2_CL.get_p2p(n_jobs=1)\n",
    "cmap1_C = visu(cat_mesh.vertlist); cmap2_C = cmap1_C[cp2p_CL]\n",
    "double_plot(cat_mesh,lion_mesh,cmap1_C,cmap2_C)"
   ]
  },
  {
   "cell_type": "markdown",
   "id": "db1c8046",
   "metadata": {},
   "source": [
    "# Evaluating Results"
   ]
  },
  {
   "cell_type": "code",
   "execution_count": null,
   "id": "54f40c3a",
   "metadata": {},
   "outputs": [],
   "source": [
    "import pyFM.eval"
   ]
  },
  {
   "cell_type": "code",
   "execution_count": null,
   "id": "ea444cfb",
   "metadata": {},
   "outputs": [],
   "source": [
    "A_geod = cat_mesh.get_geodesic(verbose=True)"
   ]
  },
  {
   "cell_type": "code",
   "execution_count": null,
   "id": "a5cec508",
   "metadata": {},
   "outputs": [],
   "source": [
    "# Load an approximate ground truth map\n",
    "gt_p2p = np.loadtxt('data/lion2cat',dtype=int)\n",
    "\n",
    "acc_FM = pyFM.eval.accuracy(p2p_CL, gt_p2p, A_geod, sqrt_area=cat_mesh.sqrtarea)\n",
    "\n",
    "acc_CFM = pyFM.eval.accuracy(cp2p_CL, gt_p2p, A_geod, sqrt_area=cat_mesh.sqrtarea)\n",
    "\n",
    "\n",
    "print(f'Accuracy results:\\n'\n",
    "      f'\\tFM : {1e3*acc_FM:.2f}\\n'\n",
    "      f'\\tCFM : {1e3*acc_CFM:.2f}\\n')"
   ]
  },
  {
   "cell_type": "code",
   "execution_count": null,
   "id": "8b5605dd",
   "metadata": {},
   "outputs": [],
   "source": []
  }
 ],
 "metadata": {
  "kernelspec": {
   "display_name": "Python 3 (ipykernel)",
   "language": "python",
   "name": "python3"
  },
  "language_info": {
   "codemirror_mode": {
    "name": "ipython",
    "version": 3
   },
   "file_extension": ".py",
   "mimetype": "text/x-python",
   "name": "python",
   "nbconvert_exporter": "python",
   "pygments_lexer": "ipython3",
   "version": "3.9.7"
  },
  "latex_envs": {
   "LaTeX_envs_menu_present": true,
   "autoclose": false,
   "autocomplete": true,
   "bibliofile": "biblio.bib",
   "cite_by": "apalike",
   "current_citInitial": 1,
   "eqLabelWithNumbers": true,
   "eqNumInitial": 1,
   "hotkeys": {
    "equation": "Ctrl-E",
    "itemize": "Ctrl-I"
   },
   "labels_anchors": false,
   "latex_user_defs": false,
   "report_style_numbering": false,
   "user_envs_cfg": false
  },
  "toc": {
   "base_numbering": 1,
   "nav_menu": {},
   "number_sections": true,
   "sideBar": true,
   "skip_h1_title": false,
   "title_cell": "Table of Contents",
   "title_sidebar": "Contents",
   "toc_cell": false,
   "toc_position": {},
   "toc_section_display": true,
   "toc_window_display": false
  },
  "varInspector": {
   "cols": {
    "lenName": 16,
    "lenType": 16,
    "lenVar": 40
   },
   "kernels_config": {
    "python": {
     "delete_cmd_postfix": "",
     "delete_cmd_prefix": "del ",
     "library": "var_list.py",
     "varRefreshCmd": "print(var_dic_list())"
    },
    "r": {
     "delete_cmd_postfix": ") ",
     "delete_cmd_prefix": "rm(",
     "library": "var_list.r",
     "varRefreshCmd": "cat(var_dic_list()) "
    }
   },
   "types_to_exclude": [
    "module",
    "function",
    "builtin_function_or_method",
    "instance",
    "_Feature"
   ],
   "window_display": false
  }
 },
 "nbformat": 4,
 "nbformat_minor": 5
}
