{
 "cells": [
  {
   "cell_type": "markdown",
   "id": "0b693fed",
   "metadata": {},
   "source": [
    "# 1 - Imports and defining functions"
   ]
  },
  {
   "cell_type": "code",
   "execution_count": 1,
   "id": "1b0c0ca6",
   "metadata": {},
   "outputs": [
    {
     "name": "stdout",
     "output_type": "stream",
     "text": [
      "Jupyter environment detected. Enabling Open3D WebVisualizer.\n",
      "[Open3D INFO] WebRTC GUI backend enabled.\n",
      "[Open3D INFO] WebRTCWindowSystem: HTTP handshake server disabled.\n"
     ]
    }
   ],
   "source": [
    "import matplotlib.pyplot as plt\n",
    "import open3d as o3d\n",
    "import numpy as np\n",
    "import torch\n",
    "import scipy.optimize as so\n",
    "import meshplot as mp\n",
    "\n",
    "import pyFM.spectral as spectral\n",
    "from pyFM.mesh import TriMesh\n",
    "from pyFM.functional import FunctionalMapping\n",
    "from project.cfunctional import CoupledFunctionalMapping\n",
    "from project.trimesh import TriMeshPly\n",
    "import project.utils as file_utils\n",
    "import meshplot as mp\n",
    "\n",
    "def plot_mesh(myMesh,cmap=None):\n",
    "    mp.plot(myMesh.vertlist, myMesh.facelist,c=cmap)\n",
    "    \n",
    "def double_plot(myMesh1,myMesh2,cmap1=None,cmap2=None):\n",
    "    d = mp.subplot(myMesh1.vertlist, myMesh1.facelist, c=cmap1, s=[2, 2, 0])\n",
    "    mp.subplot(myMesh2.vertlist, myMesh2.facelist, c=cmap2, s=[2, 2, 1], data=d)\n",
    "\n",
    "def visu(vertices):\n",
    "    min_coord,max_coord = np.min(vertices,axis=0,keepdims=True),np.max(vertices,axis=0,keepdims=True)\n",
    "    cmap = (vertices-min_coord)/(max_coord-min_coord)\n",
    "    return cmap\n",
    "\n",
    "#def get_pts(infile):\n",
    "#    data = np.loadtxt(infile, delimiter=',')\n",
    "#    return data[12:,0], data[12:,1], data[12:,2] #returns X,Y,Z points skipping the first 12 lines\n",
    "        \n",
    "def plot_ply(infile):\n",
    "        \n",
    "    fig = plt.figure()\n",
    "    ax = fig.add_subplot(111, projection='3d')\n",
    "    x,y,z = get_pts(infile)\n",
    "    ax.scatter(x, y, z, c='r', marker='o')\n",
    "    ax.set_xlabel('X Label')\n",
    "    ax.set_ylabel('Y Label')\n",
    "    ax.set_zlabel('Z Label')\n",
    "    plt.show()\n",
    " \n"
   ]
  },
  {
   "cell_type": "markdown",
   "id": "c0f20b69",
   "metadata": {},
   "source": [
    "# 2 - Try with the FAUST dataset"
   ]
  },
  {
   "cell_type": "markdown",
   "id": "b646ffef",
   "metadata": {},
   "source": [
    "**Loading meshes from FAUST dataset***"
   ]
  },
  {
   "cell_type": "markdown",
   "id": "2ec6a04b",
   "metadata": {},
   "source": [
    "Create the TriMesh class can be created from a path. With the load_ply we use two meshes from the FAUST dataset "
   ]
  },
  {
   "cell_type": "code",
   "execution_count": 2,
   "id": "a152d8ad",
   "metadata": {},
   "outputs": [
    {
     "name": "stdout",
     "output_type": "stream",
     "text": [
      "Mesh 1 : 6890 vertices, 13776 faces\n",
      "Mesh 2 : 6890 vertices, 13776 faces\n"
     ]
    },
    {
     "name": "stderr",
     "output_type": "stream",
     "text": [
      "C:\\Users\\Admin\\anaconda3\\envs\\casestud\\lib\\site-packages\\jupyter_client\\session.py:718: UserWarning: Message serialization failed with:\n",
      "Out of range float values are not JSON compliant\n",
      "Supporting this message is deprecated in jupyter-client 7, please make sure your message is JSON-compliant\n",
      "  content = self.pack(content)\n"
     ]
    },
    {
     "data": {
      "application/vnd.jupyter.widget-view+json": {
       "model_id": "0ef7a4c20e684bc4a479415978477f67",
       "version_major": 2,
       "version_minor": 0
      },
      "text/plain": [
       "HBox(children=(Output(), Output()))"
      ]
     },
     "metadata": {},
     "output_type": "display_data"
    },
    {
     "data": {
      "application/vnd.jupyter.widget-view+json": {
       "model_id": "b9c94212feae4fe3b7284cb1bf7631c0",
       "version_major": 2,
       "version_minor": 0
      },
      "text/plain": [
       "HBox(children=(Output(), Output()))"
      ]
     },
     "metadata": {},
     "output_type": "display_data"
    }
   ],
   "source": [
    "FAUST_path_1 = str(\"../data/MPI-FAUST_dev/MPI-FAUST/training/registrations/tr_reg_000.ply\")\n",
    "FAUST_path_2 = str(\"../data/MPI-FAUST_dev/MPI-FAUST/training/registrations/tr_reg_001.ply\")\n",
    "\n",
    "\n",
    "mesh1 = TriMeshPly(FAUST_path_1)\n",
    "mesh2 = TriMeshPly(FAUST_path_2)\n",
    "\n",
    "\n",
    "print(f'Mesh 1 : {mesh1.n_vertices:4d} vertices, {mesh1.n_faces:5d} faces\\n'\n",
    "      f'Mesh 2 : {mesh2.n_vertices:4d} vertices, {mesh2.n_faces:5d} faces')\n",
    "\n",
    "double_plot(mesh1,mesh2)"
   ]
  },
  {
   "cell_type": "markdown",
   "id": "744cd86e",
   "metadata": {},
   "source": [
    "**Computing descriptors for the functional map**"
   ]
  },
  {
   "cell_type": "code",
   "execution_count": 3,
   "id": "b7cf06b9",
   "metadata": {},
   "outputs": [
    {
     "name": "stdout",
     "output_type": "stream",
     "text": [
      "\n",
      "Computing Laplacian spectrum\n",
      "Computing 200 eigenvectors\n",
      "\tDone in 2.06 s\n",
      "Computing 200 eigenvectors\n",
      "\tDone in 1.89 s\n",
      "\n",
      "Computing descriptors\n",
      "\tNormalizing descriptors\n",
      "\n",
      "\t20 out of 100 possible descriptors kept\n"
     ]
    }
   ],
   "source": [
    "process_params = {\n",
    "    'n_ev': (35,35),  # Number of eigenvalues on source and Target\n",
    "#    'landmarks': np.loadtxt('data/landmarks.txt',dtype=int)[:5], #loading 5 landmarks\n",
    "    'subsample_step': 5,  # In order not to use too many descriptors\n",
    "    'descr_type': 'WKS',  # WKS or HKS\n",
    "}\n",
    "\n",
    "model = FunctionalMapping(mesh1,mesh2)\n",
    "model.preprocess(**process_params,verbose=True);\n"
   ]
  },
  {
   "cell_type": "markdown",
   "id": "7b938caa",
   "metadata": {},
   "source": [
    "**Fitting the model for the functional map**"
   ]
  },
  {
   "cell_type": "markdown",
   "id": "4615fc6a",
   "metadata": {},
   "source": [
    "$\\newcommand{\\RR}{\\mathbb{R}}$\n",
    "$\\newcommand{\\Ss}{\\mathcal{S}}$\n",
    "$\\newcommand{\\uargmin}[1]{\\underset{#1}{\\text{argmin}}\\;}$\n",
    "$\\newcommand{\\uargmax}[1]{\\underset{#1}{\\text{argmax}}\\;}$\n",
    "$\\def\\*#1{\\mathbf{#1}}$\n",
    "\n",
    "Compute the functional map $\\*C:\\Ss_1\\to\\Ss_2$:\n",
    "\n",
    "Optimization problem is\n",
    "\\begin{equation}\n",
    "\\uargmin{\\*C\\in\\RR^{k_2\\times k_1}} w_{descr}\\|\\*C\\*A - \\*B\\|^2 + w_{lap}\\|\\*C\\Delta_1 - \\Delta_2\\*C\\|^2 + w_{\\text{d- comm}}\\sum_i \\|\\*C\\Gamma_1^i - \\Gamma_2^i\\*C\\|^2 + w_{\\text{orient}}\\sum_i \\|\\*C\\Lambda_1^i - \\Lambda_2^i\\*C\\|^2\n",
    "\\end{equation}\n",
    "\n",
    "with $\\Gamma_1^i$ and $\\Gamma_2^i$ associated to the $i$-th descriptors, $\\Lambda_1^i$ and $\\Lambda_2^i$ associated to the $i$-th descriptors"
   ]
  },
  {
   "cell_type": "code",
   "execution_count": 4,
   "id": "e3d3d176",
   "metadata": {},
   "outputs": [
    {
     "name": "stdout",
     "output_type": "stream",
     "text": [
      "Computing commutativity operators\n",
      "\tScaling LBO commutativity weight by 7.0e-08\n",
      "\n",
      "Optimization :\n",
      "\t35 Ev on source - 35 Ev on Target\n",
      "\tUsing 20 Descriptors\n",
      "\tHyperparameters :\n",
      "\t\tDescriptors preservation :1.0e+00\n",
      "\t\tDescriptors commutativity :1.0e-01\n",
      "\t\tLaplacian commutativity :1.0e-02\n",
      "\t\tOrientation preservation :0.0e+00\n",
      "\n",
      "\tTask : CONVERGENCE: REL_REDUCTION_OF_F_<=_FACTR*EPSMCH, funcall : 181, nit : 179, warnflag : 0\n",
      "\tDone in 0.35 seconds\n"
     ]
    }
   ],
   "source": [
    "fit_params = {\n",
    "    'w_descr': 1e0,\n",
    "    'w_lap': 1e-2,\n",
    "    'w_dcomm': 1e-1,\n",
    "    'w_orient': 0\n",
    "}\n",
    "\n",
    "\n",
    "\n",
    "model.fit(**fit_params, verbose=True)"
   ]
  },
  {
   "cell_type": "markdown",
   "id": "69cb87e4",
   "metadata": {},
   "source": [
    "**Visualizing the associated point to point map**"
   ]
  },
  {
   "cell_type": "code",
   "execution_count": 5,
   "id": "19dbe6ab",
   "metadata": {},
   "outputs": [
    {
     "name": "stderr",
     "output_type": "stream",
     "text": [
      "C:\\Users\\Admin\\anaconda3\\envs\\casestud\\lib\\site-packages\\jupyter_client\\session.py:718: UserWarning: Message serialization failed with:\n",
      "Out of range float values are not JSON compliant\n",
      "Supporting this message is deprecated in jupyter-client 7, please make sure your message is JSON-compliant\n",
      "  content = self.pack(content)\n"
     ]
    },
    {
     "data": {
      "application/vnd.jupyter.widget-view+json": {
       "model_id": "087dffe8b81840e5922f557beeb52f2a",
       "version_major": 2,
       "version_minor": 0
      },
      "text/plain": [
       "HBox(children=(Output(), Output()))"
      ]
     },
     "metadata": {},
     "output_type": "display_data"
    },
    {
     "data": {
      "application/vnd.jupyter.widget-view+json": {
       "model_id": "b5a181c199c14a5b91249cd6bf498b66",
       "version_major": 2,
       "version_minor": 0
      },
      "text/plain": [
       "HBox(children=(Output(), Output()))"
      ]
     },
     "metadata": {},
     "output_type": "display_data"
    }
   ],
   "source": [
    "p2p_21 = model.get_p2p(n_jobs=1)\n",
    "cmap1 = visu(mesh1.vertlist); cmap2 = cmap1[p2p_21]\n",
    "double_plot(mesh1,mesh2,cmap1,cmap2)"
   ]
  },
  {
   "cell_type": "code",
   "execution_count": 6,
   "id": "9d3295ba",
   "metadata": {},
   "outputs": [
    {
     "name": "stdout",
     "output_type": "stream",
     "text": [
      "\n"
     ]
    }
   ],
   "source": [
    "gt_1 = np.loadtxt(\"../data/MPI-FAUST_dev/MPI-FAUST/training/ground_truth_vertices/tr_gt_000.txt\")\n",
    "gt_2 = np.loadtxt(\"../data/MPI-FAUST_dev/MPI-FAUST/training/ground_truth_vertices/tr_gt_001.txt\")\n",
    "print()"
   ]
  },
  {
   "cell_type": "markdown",
   "id": "45129d12",
   "metadata": {},
   "source": [
    "***Computing the descriptors for the coupled functional maps***"
   ]
  },
  {
   "cell_type": "code",
   "execution_count": 7,
   "id": "cdd966e5",
   "metadata": {},
   "outputs": [
    {
     "name": "stdout",
     "output_type": "stream",
     "text": [
      "\n",
      "Computing Laplacian spectrum\n",
      "Computing 200 eigenvectors\n",
      "\tDone in 1.96 s\n",
      "Computing 200 eigenvectors\n",
      "\tDone in 1.85 s\n",
      "\n",
      "Computing descriptors\n",
      "\tNormalizing descriptors\n",
      "\n",
      "\t20 out of 100 possible descriptors kept\n"
     ]
    }
   ],
   "source": [
    "process_params = {\n",
    "    'n_ev': (35,35),  # Number of eigenvalues on source and Target\n",
    "#    'landmarks': np.loadtxt('data/landmarks.txt',dtype=int)[:5], #loading 5 landmarks\n",
    "    'subsample_step': 5,  # In order not to use too many descriptors\n",
    "    'descr_type': 'WKS',  # WKS or HKS\n",
    "}\n",
    "\n",
    "model2 = CoupledFunctionalMapping(mesh1,mesh2)\n",
    "model2.preprocess(**process_params,verbose=True);"
   ]
  },
  {
   "cell_type": "markdown",
   "id": "199203be",
   "metadata": {},
   "source": [
    "**Fitting the model for the coupled functional maps**"
   ]
  },
  {
   "cell_type": "markdown",
   "id": "6d09eed4",
   "metadata": {},
   "source": [
    "$\\newcommand{\\RR}{\\mathbb{R}}$\n",
    "$\\newcommand{\\Ss}{\\mathcal{S}}$\n",
    "$\\newcommand{\\uargmin}[1]{\\underset{#1}{\\text{argmin}}\\;}$\n",
    "$\\newcommand{\\uargmax}[1]{\\underset{#1}{\\text{argmax}}\\;}$\n",
    "$\\def\\*#1{\\mathbf{#1}}$\n",
    "\n",
    "Compute the coupled functional maps $\\*C_1:\\Ss_1\\to\\Ss_2$ and $\\*C_2:\\Ss_2\\to\\Ss_1$:\n",
    "\n",
    "Optimization problem is\n",
    "\\begin{equation}\n",
    "\\uargmin{\\*C\\in\\RR^{k_2\\times k_1},\\*C\\in\\RR^{k_1\\times k_2}} \\|\\*C_1\\*A - \\*B\\|^2 + \\|\\*A-\\*C_2 \\*B\\|^2 + \\mu_{coup}\\|\\*C_1\\*C_2-\\*I\\|^2 + \\mu_{LB}\\|\\*C_1\\Delta_1 - \\Delta_2\\*C_1\\|^2 + \\mu_{LB}\\|\\*C_2^{T}\\Delta_1 - \\Delta_2\\*C_2^{T}\\|^2 \n",
    "\\end{equation}\n",
    "\n"
   ]
  },
  {
   "cell_type": "code",
   "execution_count": 8,
   "id": "7ee879b9",
   "metadata": {},
   "outputs": [
    {
     "name": "stdout",
     "output_type": "stream",
     "text": [
      "Warning: Desired error not necessarily achieved due to precision loss.\n",
      "         Current function value: 0.050927\n",
      "         Iterations: 150\n",
      "         Function evaluations: 350\n",
      "         Gradient evaluations: 338\n"
     ]
    }
   ],
   "source": [
    "fit_params = {\n",
    "    'mu_cons': 1e-1,\n",
    "    'mu_LB': 1e3\n",
    "}\n",
    "\n",
    "model2.fit(**fit_params, verbose=True)"
   ]
  },
  {
   "cell_type": "markdown",
   "id": "49ba3f1a",
   "metadata": {},
   "source": [
    "**Visualizing the associated point to point map**"
   ]
  },
  {
   "cell_type": "code",
   "execution_count": 9,
   "id": "7e46351e",
   "metadata": {},
   "outputs": [
    {
     "name": "stderr",
     "output_type": "stream",
     "text": [
      "C:\\Users\\Admin\\anaconda3\\envs\\casestud\\lib\\site-packages\\jupyter_client\\session.py:718: UserWarning: Message serialization failed with:\n",
      "Out of range float values are not JSON compliant\n",
      "Supporting this message is deprecated in jupyter-client 7, please make sure your message is JSON-compliant\n",
      "  content = self.pack(content)\n"
     ]
    },
    {
     "data": {
      "application/vnd.jupyter.widget-view+json": {
       "model_id": "0bb193e6691f4cf0afa61880de62a46d",
       "version_major": 2,
       "version_minor": 0
      },
      "text/plain": [
       "HBox(children=(Output(), Output()))"
      ]
     },
     "metadata": {},
     "output_type": "display_data"
    },
    {
     "data": {
      "application/vnd.jupyter.widget-view+json": {
       "model_id": "21cba2a78662421bbfb0523b3af65ed3",
       "version_major": 2,
       "version_minor": 0
      },
      "text/plain": [
       "HBox(children=(Output(), Output()))"
      ]
     },
     "metadata": {},
     "output_type": "display_data"
    }
   ],
   "source": [
    "cp2p = model2.get_p2p(n_jobs=1)\n",
    "cmap1 = visu(mesh1.vertlist); cmap2 = cmap1[cp2p]\n",
    "double_plot(mesh1,mesh2,cmap1,cmap2)"
   ]
  },
  {
   "cell_type": "markdown",
   "id": "ae368b98",
   "metadata": {},
   "source": [
    "# 3 - try with the cat-lion datas"
   ]
  },
  {
   "cell_type": "markdown",
   "id": "544ddc22",
   "metadata": {},
   "source": [
    "**Loading meshes of the cat and the Lion***"
   ]
  },
  {
   "cell_type": "code",
   "execution_count": 10,
   "id": "5d380a0d",
   "metadata": {},
   "outputs": [
    {
     "name": "stdout",
     "output_type": "stream",
     "text": [
      "Mesh 1 : 7207 vertices, 14410 faces\n",
      "Mesh 2 : 5000 vertices,  9996 faces\n"
     ]
    }
   ],
   "source": [
    "cat_mesh = TriMesh('data/cat-00.off')\n",
    "lion_mesh = TriMesh('data/lion-00.off')\n",
    "print(f'Mesh 1 : {cat_mesh.n_vertices:4d} vertices, {cat_mesh.n_faces:5d} faces\\n'\n",
    "      f'Mesh 2 : {lion_mesh.n_vertices:4d} vertices, {lion_mesh.n_faces:5d} faces')"
   ]
  },
  {
   "cell_type": "markdown",
   "id": "926220fb",
   "metadata": {},
   "source": [
    "**Computing the descriptors**"
   ]
  },
  {
   "cell_type": "code",
   "execution_count": 11,
   "id": "1ac6e482",
   "metadata": {},
   "outputs": [
    {
     "name": "stdout",
     "output_type": "stream",
     "text": [
      "\n",
      "Computing Laplacian spectrum\n",
      "Computing 200 eigenvectors\n",
      "\tDone in 2.15 s\n",
      "Computing 200 eigenvectors\n",
      "\tDone in 1.04 s\n",
      "\n",
      "Computing descriptors\n",
      "\tNormalizing descriptors\n",
      "\n",
      "\t120 out of 600 possible descriptors kept\n"
     ]
    }
   ],
   "source": [
    "process_params = {\n",
    "    'n_ev': (35,35),  # Number of eigenvalues on source and Target\n",
    "    'landmarks': np.loadtxt('data/landmarks.txt',dtype=int)[:5],  # loading 5 landmarks\n",
    "    'subsample_step': 5,  # In order not to use too many descriptors\n",
    "    'descr_type': 'WKS',  # WKS or HKS\n",
    "}\n",
    "\n",
    "model1_CL = FunctionalMapping(cat_mesh,lion_mesh)\n",
    "model1_CL.preprocess(**process_params,verbose=True);"
   ]
  },
  {
   "cell_type": "markdown",
   "id": "9cc87866",
   "metadata": {},
   "source": [
    "**Fitting the model for the functional map**"
   ]
  },
  {
   "cell_type": "code",
   "execution_count": 12,
   "id": "5eb840b1",
   "metadata": {},
   "outputs": [
    {
     "name": "stdout",
     "output_type": "stream",
     "text": [
      "Computing commutativity operators\n",
      "\tScaling LBO commutativity weight by 3.9e-09\n",
      "\n",
      "Optimization :\n",
      "\t35 Ev on source - 35 Ev on Target\n",
      "\tUsing 120 Descriptors\n",
      "\tHyperparameters :\n",
      "\t\tDescriptors preservation :1.0e+00\n",
      "\t\tDescriptors commutativity :1.0e-02\n",
      "\t\tLaplacian commutativity :1.0e+03\n",
      "\t\tOrientation preservation :0.0e+00\n",
      "\n",
      "\tTask : CONVERGENCE: REL_REDUCTION_OF_F_<=_FACTR*EPSMCH, funcall : 43, nit : 38, warnflag : 0\n",
      "\tDone in 0.29 seconds\n"
     ]
    }
   ],
   "source": [
    "fit_params = {\n",
    "    'w_descr': 1e0,\n",
    "    'w_lap': 1e3,\n",
    "    'w_dcomm': 1e-2,\n",
    "    'w_orient': 0\n",
    "}\n",
    "\n",
    "\n",
    "\n",
    "model1_CL.fit(**fit_params, verbose=True)"
   ]
  },
  {
   "cell_type": "markdown",
   "id": "2ccc9db5",
   "metadata": {},
   "source": [
    "**Visualizing the associated point to point map for the functional map**"
   ]
  },
  {
   "cell_type": "code",
   "execution_count": 13,
   "id": "15707fae",
   "metadata": {},
   "outputs": [
    {
     "name": "stderr",
     "output_type": "stream",
     "text": [
      "C:\\Users\\Admin\\anaconda3\\envs\\casestud\\lib\\site-packages\\jupyter_client\\session.py:718: UserWarning: Message serialization failed with:\n",
      "Out of range float values are not JSON compliant\n",
      "Supporting this message is deprecated in jupyter-client 7, please make sure your message is JSON-compliant\n",
      "  content = self.pack(content)\n"
     ]
    },
    {
     "data": {
      "application/vnd.jupyter.widget-view+json": {
       "model_id": "cc27ad523b904ff698b95ba4d64c8428",
       "version_major": 2,
       "version_minor": 0
      },
      "text/plain": [
       "HBox(children=(Output(), Output()))"
      ]
     },
     "metadata": {},
     "output_type": "display_data"
    },
    {
     "data": {
      "application/vnd.jupyter.widget-view+json": {
       "model_id": "240580fa030444c39fa35b35167ff84d",
       "version_major": 2,
       "version_minor": 0
      },
      "text/plain": [
       "HBox(children=(Output(), Output()))"
      ]
     },
     "metadata": {},
     "output_type": "display_data"
    }
   ],
   "source": [
    "p2p_CL = model1_CL.get_p2p(n_jobs=1)\n",
    "cmap1 = visu(cat_mesh.vertlist); cmap2 = cmap1[p2p_CL]\n",
    "double_plot(cat_mesh,lion_mesh,cmap1,cmap2)"
   ]
  },
  {
   "cell_type": "markdown",
   "id": "2cba9e02",
   "metadata": {},
   "source": [
    "**Computing the descriptors**"
   ]
  },
  {
   "cell_type": "code",
   "execution_count": 14,
   "id": "288deea4",
   "metadata": {},
   "outputs": [
    {
     "name": "stdout",
     "output_type": "stream",
     "text": [
      "\n",
      "Computing Laplacian spectrum\n",
      "Computing 200 eigenvectors\n",
      "\tDone in 2.15 s\n",
      "Computing 200 eigenvectors\n",
      "\tDone in 1.01 s\n",
      "\n",
      "Computing descriptors\n",
      "\tNormalizing descriptors\n",
      "\n",
      "\t120 out of 600 possible descriptors kept\n"
     ]
    }
   ],
   "source": [
    "process_params = {\n",
    "    'n_ev': (35,35),  # Number of eigenvalues on source and Target\n",
    "    'landmarks': np.loadtxt('data/landmarks.txt',dtype=int)[:5], #loading 5 landmarks\n",
    "    'subsample_step': 5,  # In order not to use too many descriptors\n",
    "    'descr_type': 'WKS',  # WKS or HKS\n",
    "}\n",
    "\n",
    "\n",
    "\n",
    "model2_CL = CoupledFunctionalMapping(cat_mesh,lion_mesh)\n",
    "model2_CL.preprocess(**process_params,verbose=True);"
   ]
  },
  {
   "cell_type": "markdown",
   "id": "a4a8acff",
   "metadata": {},
   "source": [
    "**Fitting the model for the coupled functional map**"
   ]
  },
  {
   "cell_type": "code",
   "execution_count": 15,
   "id": "428747c6",
   "metadata": {},
   "outputs": [
    {
     "name": "stdout",
     "output_type": "stream",
     "text": [
      "Warning: Desired error not necessarily achieved due to precision loss.\n",
      "         Current function value: 11.867128\n",
      "         Iterations: 20\n",
      "         Function evaluations: 90\n",
      "         Gradient evaluations: 79\n"
     ]
    }
   ],
   "source": [
    "fit_params = {\n",
    "    'mu_cons': 1e-1,\n",
    "    'mu_LB': 1e3,\n",
    "}\n",
    "\n",
    "model2_CL.fit(**fit_params, verbose=True)\n",
    "#print(model2.C1)"
   ]
  },
  {
   "cell_type": "markdown",
   "id": "c6d45a35",
   "metadata": {},
   "source": [
    "**Visualizing the associated point to point map for the coupled functional map**"
   ]
  },
  {
   "cell_type": "code",
   "execution_count": 16,
   "id": "92c4fb17",
   "metadata": {},
   "outputs": [
    {
     "name": "stderr",
     "output_type": "stream",
     "text": [
      "C:\\Users\\Admin\\anaconda3\\envs\\casestud\\lib\\site-packages\\jupyter_client\\session.py:718: UserWarning: Message serialization failed with:\n",
      "Out of range float values are not JSON compliant\n",
      "Supporting this message is deprecated in jupyter-client 7, please make sure your message is JSON-compliant\n",
      "  content = self.pack(content)\n"
     ]
    },
    {
     "data": {
      "application/vnd.jupyter.widget-view+json": {
       "model_id": "3b10d12cbbb440ca8e747cb4ed4b8d36",
       "version_major": 2,
       "version_minor": 0
      },
      "text/plain": [
       "HBox(children=(Output(), Output()))"
      ]
     },
     "metadata": {},
     "output_type": "display_data"
    },
    {
     "data": {
      "application/vnd.jupyter.widget-view+json": {
       "model_id": "815b2c7405f948059bb420c2181ae0bb",
       "version_major": 2,
       "version_minor": 0
      },
      "text/plain": [
       "HBox(children=(Output(), Output()))"
      ]
     },
     "metadata": {},
     "output_type": "display_data"
    }
   ],
   "source": [
    "cp2p_CL = model2_CL.get_p2p(n_jobs=1)\n",
    "cmap1_C = visu(cat_mesh.vertlist); cmap2_C = cmap1_C[cp2p_CL]\n",
    "double_plot(cat_mesh,lion_mesh,cmap1_C,cmap2_C)"
   ]
  },
  {
   "cell_type": "markdown",
   "id": "db1c8046",
   "metadata": {},
   "source": [
    "# Evaluating Results"
   ]
  },
  {
   "cell_type": "code",
   "execution_count": 17,
   "id": "54f40c3a",
   "metadata": {},
   "outputs": [],
   "source": [
    "import pyFM.eval"
   ]
  },
  {
   "cell_type": "code",
   "execution_count": 18,
   "id": "ea444cfb",
   "metadata": {},
   "outputs": [
    {
     "data": {
      "application/vnd.jupyter.widget-view+json": {
       "model_id": "0d82ed80cd4b4b869b4891a53b49141e",
       "version_major": 2,
       "version_minor": 0
      },
      "text/plain": [
       "  0%|          | 0/7207 [00:00<?, ?it/s]"
      ]
     },
     "metadata": {},
     "output_type": "display_data"
    }
   ],
   "source": [
    "A_geod = cat_mesh.get_geodesic(verbose=True)"
   ]
  },
  {
   "cell_type": "code",
   "execution_count": 19,
   "id": "a5cec508",
   "metadata": {},
   "outputs": [
    {
     "name": "stdout",
     "output_type": "stream",
     "text": [
      "Accuracy results:\n",
      "\tFM : 40.86\n",
      "\tCFM : 56.86\n",
      "\n"
     ]
    }
   ],
   "source": [
    "# Load an approximate ground truth map\n",
    "gt_p2p = np.loadtxt('data/lion2cat',dtype=int)\n",
    "\n",
    "acc_FM = pyFM.eval.accuracy(p2p_CL, gt_p2p, A_geod, sqrt_area=cat_mesh.sqrtarea)\n",
    "\n",
    "acc_CFM = pyFM.eval.accuracy(cp2p_CL, gt_p2p, A_geod, sqrt_area=cat_mesh.sqrtarea)\n",
    "\n",
    "\n",
    "print(f'Accuracy results:\\n'\n",
    "      f'\\tFM : {1e3*acc_FM:.2f}\\n'\n",
    "      f'\\tCFM : {1e3*acc_CFM:.2f}\\n')"
   ]
  },
  {
   "cell_type": "code",
   "execution_count": null,
   "id": "8b5605dd",
   "metadata": {},
   "outputs": [],
   "source": []
  }
 ],
 "metadata": {
  "kernelspec": {
   "display_name": "Python 3 (ipykernel)",
   "language": "python",
   "name": "python3"
  },
  "language_info": {
   "codemirror_mode": {
    "name": "ipython",
    "version": 3
   },
   "file_extension": ".py",
   "mimetype": "text/x-python",
   "name": "python",
   "nbconvert_exporter": "python",
   "pygments_lexer": "ipython3",
   "version": "3.9.12"
  }
 },
 "nbformat": 4,
 "nbformat_minor": 5
}
