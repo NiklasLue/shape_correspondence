{
  "cells": [
    {
      "cell_type": "code",
      "execution_count": 1,
      "metadata": {
        "colab": {
          "base_uri": "https://localhost:8080/"
        },
        "id": "_QZEW8fjP0q_",
        "outputId": "7d0d31fe-fbaa-4251-b36b-9c9515afb8ec"
      },
      "outputs": [
        {
          "name": "stdout",
          "output_type": "stream",
          "text": [
            "Mounted at /content/drive\n"
          ]
        }
      ],
      "source": [
        "from google.colab import drive\n",
        "drive.mount('/content/drive')"
      ]
    },
    {
      "cell_type": "code",
      "execution_count": 2,
      "metadata": {
        "colab": {
          "base_uri": "https://localhost:8080/"
        },
        "id": "Ep5KR_VaQBNa",
        "outputId": "c428c4c1-0e32-4f12-ff1e-84cda18c2911"
      },
      "outputs": [
        {
          "name": "stdout",
          "output_type": "stream",
          "text": [
            "/content/drive/MyDrive/pyFM/data/SGP_dataset_off\n"
          ]
        }
      ],
      "source": [
        "%cd drive/MyDrive/pyFM/data/SGP_dataset_off"
      ]
    },
    {
      "cell_type": "code",
      "execution_count": 45,
      "metadata": {
        "id": "fWzBv3j4QUk2"
      },
      "outputs": [],
      "source": [
        "import os\n",
        "from pathlib import Path\n",
        "import shutil\n",
        "\n",
        "from sklearn.model_selection import train_test_split\n",
        "\n",
        "extensions = [\".gt\", \".off\", \".png\", \".remesh\"]"
      ]
    },
    {
      "cell_type": "code",
      "execution_count": 22,
      "metadata": {
        "id": "yJIFIHsMQixN"
      },
      "outputs": [],
      "source": [
        "file_list = os.listdir(\"cuts\")\n",
        "file_list.sort()\n",
        "file_list = list(set([x.split(\".\")[0] for x in file_list]))"
      ]
    },
    {
      "cell_type": "code",
      "execution_count": 47,
      "metadata": {
        "id": "58NZvgktQlrr"
      },
      "outputs": [],
      "source": [
        "train, test = train_test_split(file_list, test_size=0.2, shuffle=True, random_state=42)"
      ]
    },
    {
      "cell_type": "code",
      "execution_count": 79,
      "metadata": {
        "id": "iAbTqVm3Q2Ox"
      },
      "outputs": [],
      "source": [
        "def copy_files(file_names, extensions, src, dest):\n",
        "    src = Path(src)\n",
        "    dest = Path(dest)\n",
        "    for fn in file_names:\n",
        "        for ext in extensions:\n",
        "            try:\n",
        "                shutil.copy(src / (fn + ext), dest / (fn + ext))\n",
        "            except:\n",
        "                pass"
      ]
    },
    {
      "cell_type": "code",
      "execution_count": 61,
      "metadata": {
        "id": "73SlxJP5VtDx"
      },
      "outputs": [],
      "source": [
        "copy_files(train, extensions, \"cuts\", \"train_full/cuts\")"
      ]
    },
    {
      "cell_type": "code",
      "execution_count": 81,
      "metadata": {
        "id": "HtGxTjM1YKvv"
      },
      "outputs": [],
      "source": [
        "def copy_null_shapes(pth, null_shape_pth, extensions):\n",
        "    pth = Path(pth)\n",
        "    null_shape_pth = Path(null_shape_pth)\n",
        "\n",
        "    null_shapes = list(set([x.split(\"_\")[0] for x in os.listdir(pth / \"cuts\")]))\n",
        "\n",
        "    copy_files(null_shapes, extensions, null_shape_pth, pth / \"null\")"
      ]
    },
    {
      "cell_type": "code",
      "execution_count": 82,
      "metadata": {
        "id": "oWCYX74Vb3As"
      },
      "outputs": [],
      "source": [
        "copy_null_shapes(\"train_full\", \"null\", extensions)"
      ]
    },
    {
      "cell_type": "code",
      "execution_count": 83,
      "metadata": {
        "id": "QtLP-wxbcBRY"
      },
      "outputs": [],
      "source": [
        "copy_null_shapes(\"test_full\", \"null\", extensions)"
      ]
    },
    {
      "cell_type": "code",
      "execution_count": null,
      "metadata": {
        "id": "ZGse5Yy4cEg7"
      },
      "outputs": [],
      "source": []
    }
  ],
  "metadata": {
    "colab": {
      "collapsed_sections": [],
      "name": "split_data.ipynb",
      "provenance": []
    },
    "kernelspec": {
      "display_name": "Python 3",
      "name": "python3"
    },
    "language_info": {
      "name": "python"
    }
  },
  "nbformat": 4,
  "nbformat_minor": 0
}
