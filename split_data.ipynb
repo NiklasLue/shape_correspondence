{
  "nbformat": 4,
  "nbformat_minor": 0,
  "metadata": {
    "colab": {
      "name": "split_data.ipynb",
      "provenance": [],
      "collapsed_sections": []
    },
    "kernelspec": {
      "name": "python3",
      "display_name": "Python 3"
    },
    "language_info": {
      "name": "python"
    }
  },
  "cells": [
    {
      "cell_type": "code",
      "execution_count": 1,
      "metadata": {
        "colab": {
          "base_uri": "https://localhost:8080/"
        },
        "id": "_QZEW8fjP0q_",
        "outputId": "7d0d31fe-fbaa-4251-b36b-9c9515afb8ec"
      },
      "outputs": [
        {
          "output_type": "stream",
          "name": "stdout",
          "text": [
            "Mounted at /content/drive\n"
          ]
        }
      ],
      "source": [
        "from google.colab import drive\n",
        "drive.mount('/content/drive')"
      ]
    },
    {
      "cell_type": "code",
      "source": [
        "%cd drive/MyDrive/pyFM/data/SGP_dataset_off"
      ],
      "metadata": {
        "colab": {
          "base_uri": "https://localhost:8080/"
        },
        "id": "Ep5KR_VaQBNa",
        "outputId": "c428c4c1-0e32-4f12-ff1e-84cda18c2911"
      },
      "execution_count": 2,
      "outputs": [
        {
          "output_type": "stream",
          "name": "stdout",
          "text": [
            "/content/drive/MyDrive/pyFM/data/SGP_dataset_off\n"
          ]
        }
      ]
    },
    {
      "cell_type": "code",
      "source": [
        "import os\n",
        "from pathlib import Path\n",
        "import shutil\n",
        "\n",
        "from sklearn.model_selection import train_test_split\n",
        "\n",
        "extensions = [\".gt\", \".off\", \".png\", \".remesh\"]"
      ],
      "metadata": {
        "id": "fWzBv3j4QUk2"
      },
      "execution_count": 45,
      "outputs": []
    },
    {
      "cell_type": "code",
      "source": [
        "file_list = os.listdir(\"cuts\")\n",
        "file_list.sort()\n",
        "file_list = list(set([x.split(\".\")[0] for x in file_list]))"
      ],
      "metadata": {
        "id": "yJIFIHsMQixN"
      },
      "execution_count": 22,
      "outputs": []
    },
    {
      "cell_type": "code",
      "source": [
        "train, test = train_test_split(file_list, test_size=0.2, shuffle=True, random_state=42)"
      ],
      "metadata": {
        "id": "58NZvgktQlrr"
      },
      "execution_count": 47,
      "outputs": []
    },
    {
      "cell_type": "code",
      "source": [
        "def copy_files(file_names, extensions, src, dest):\n",
        "    src = Path(src)\n",
        "    dest = Path(dest)\n",
        "    for fn in file_names:\n",
        "        for ext in extensions:\n",
        "            shutil.copy(src / (fn + ext), dest / (fn + ext))"
      ],
      "metadata": {
        "id": "iAbTqVm3Q2Ox"
      },
      "execution_count": 79,
      "outputs": []
    },
    {
      "cell_type": "code",
      "source": [
        "copy_files(train, extensions, \"cuts\", \"train_full\")"
      ],
      "metadata": {
        "id": "73SlxJP5VtDx"
      },
      "execution_count": 61,
      "outputs": []
    },
    {
      "cell_type": "code",
      "source": [
        "def copy_null_shapes(pth, null_shape_pth, extensions):\n",
        "    pth = Path(pth)\n",
        "    null_shape_pth = Path(null_shape_pth)\n",
        "\n",
        "    null_shapes = list(set([x.split(\"_\")[0] for x in os.listdir(pth / \"cuts\")]))\n",
        "\n",
        "    copy_files(null_shapes, extensions, null_shape_pth, pth / \"null\")"
      ],
      "metadata": {
        "id": "HtGxTjM1YKvv"
      },
      "execution_count": 81,
      "outputs": []
    },
    {
      "cell_type": "code",
      "source": [
        "copy_null_shapes(\"train_full\", \"null\", extensions)"
      ],
      "metadata": {
        "id": "oWCYX74Vb3As"
      },
      "execution_count": 82,
      "outputs": []
    },
    {
      "cell_type": "code",
      "source": [
        "copy_null_shapes(\"test_full\", \"null\", extensions)"
      ],
      "metadata": {
        "id": "QtLP-wxbcBRY"
      },
      "execution_count": 83,
      "outputs": []
    },
    {
      "cell_type": "code",
      "source": [
        ""
      ],
      "metadata": {
        "id": "ZGse5Yy4cEg7"
      },
      "execution_count": null,
      "outputs": []
    }
  ]
}