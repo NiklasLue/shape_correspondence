{
 "cells": [
  {
   "cell_type": "code",
   "execution_count": 1,
   "metadata": {
    "colab": {
     "base_uri": "https://localhost:8080/"
    },
    "id": "_QZEW8fjP0q_",
    "outputId": "7d0d31fe-fbaa-4251-b36b-9c9515afb8ec"
   },
   "outputs": [],
   "source": [
    "#from google.colab import drive\n",
    "#drive.mount('/content/drive')"
   ]
  },
  {
   "cell_type": "code",
   "execution_count": 4,
   "metadata": {
    "colab": {
     "base_uri": "https://localhost:8080/"
    },
    "id": "Ep5KR_VaQBNa",
    "outputId": "c428c4c1-0e32-4f12-ff1e-84cda18c2911"
   },
   "outputs": [
    {
     "name": "stdout",
     "output_type": "stream",
     "text": [
      "C:\\Users\\Admin\\data\\Tosca_DA\n"
     ]
    }
   ],
   "source": [
    "%cd ../data/Tosca_DA"
   ]
  },
  {
   "cell_type": "code",
   "execution_count": 5,
   "metadata": {
    "id": "fWzBv3j4QUk2"
   },
   "outputs": [],
   "source": [
    "import os\n",
    "from pathlib import Path\n",
    "import shutil\n",
    "\n",
    "from sklearn.model_selection import train_test_split\n",
    "\n",
    "extensions = [\".gt\", \".off\", \".png\", \".remesh\"]\n",
    "human = [\"centaur\",\"david\", \"michael\", \"victoria\"]\n",
    "animal = [\"cat\", \"dog\", \"horse\", \"wolf\"]"
   ]
  },
  {
   "cell_type": "code",
   "execution_count": 15,
   "metadata": {
    "id": "yJIFIHsMQixN"
   },
   "outputs": [],
   "source": [
    "file_list = os.listdir(\"cuts\")\n",
    "file_list_source = []\n",
    "file_list_target = []\n",
    "for beast in animal:\n",
    "    for file in file_list:\n",
    "        if beast in file:\n",
    "            file_list_source.append(file)\n",
    "for x in human:\n",
    "    for file in file_list:\n",
    "        if x in file:\n",
    "            file_list_target.append(file)\n",
    "\n",
    "    \n",
    "\n",
    "file_list_source.sort()\n",
    "file_list_target.sort()\n",
    "file_list_source = list(set([x.split(\".\")[0] for x in file_list_source]))\n",
    "file_list_target = list(set([x.split(\".\")[0] for x in file_list_target]))\n"
   ]
  },
  {
   "cell_type": "code",
   "execution_count": 16,
   "metadata": {
    "id": "58NZvgktQlrr"
   },
   "outputs": [],
   "source": [
    "source_train, source_test = train_test_split(file_list_source, test_size=0.2, shuffle=True, random_state=42)\n",
    "target_train, target_test = train_test_split(file_list_target, test_size=0.2, shuffle=True, random_state=42)"
   ]
  },
  {
   "cell_type": "code",
   "execution_count": 23,
   "metadata": {
    "id": "iAbTqVm3Q2Ox"
   },
   "outputs": [],
   "source": [
    "def copy_files(file_names, extensions, src, dest):\n",
    "    src = Path(src)\n",
    "    dest = Path(dest)\n",
    "    for fn in file_names:\n",
    "        for ext in extensions:\n",
    "            try:\n",
    "                shutil.copy(src / (fn + ext), dest / (fn + ext))\n",
    "            except:\n",
    "                pass"
   ]
  },
  {
   "cell_type": "code",
   "execution_count": 24,
   "metadata": {
    "id": "73SlxJP5VtDx"
   },
   "outputs": [],
   "source": [
    "copy_files(source_train, extensions, \"cuts\", \"source/train/cuts\")\n",
    "copy_files(target_train, extensions, \"cuts\", \"target/train/cuts\")"
   ]
  },
  {
   "cell_type": "code",
   "execution_count": 27,
   "metadata": {},
   "outputs": [],
   "source": [
    "copy_files(source_test, extensions, \"cuts\", \"source/test/cuts\")\n",
    "copy_files(target_test, extensions, \"cuts\", \"target/test/cuts\")"
   ]
  },
  {
   "cell_type": "code",
   "execution_count": 28,
   "metadata": {
    "id": "HtGxTjM1YKvv"
   },
   "outputs": [],
   "source": [
    "def copy_null_shapes(pth, null_shape_pth, extensions):\n",
    "    pth = Path(pth)\n",
    "    null_shape_pth = Path(null_shape_pth)\n",
    "\n",
    "    null_shapes = list(set([x.split(\"_\")[0] for x in os.listdir(pth / \"cuts\")]))\n",
    "\n",
    "    copy_files(null_shapes, extensions, null_shape_pth, pth / \"null\")"
   ]
  },
  {
   "cell_type": "code",
   "execution_count": 29,
   "metadata": {
    "id": "oWCYX74Vb3As"
   },
   "outputs": [],
   "source": [
    "copy_null_shapes(\"source/train\", \"null\", extensions)\n",
    "copy_null_shapes(\"target/train\", \"null\", extensions)"
   ]
  },
  {
   "cell_type": "code",
   "execution_count": 31,
   "metadata": {
    "id": "QtLP-wxbcBRY"
   },
   "outputs": [],
   "source": [
    "copy_null_shapes(\"source/test\", \"null\", extensions)\n",
    "copy_null_shapes(\"target/test\", \"null\", extensions)"
   ]
  },
  {
   "cell_type": "code",
   "execution_count": null,
   "metadata": {
    "id": "ZGse5Yy4cEg7"
   },
   "outputs": [],
   "source": []
  },
  {
   "cell_type": "code",
   "execution_count": null,
   "metadata": {},
   "outputs": [],
   "source": []
  }
 ],
 "metadata": {
  "colab": {
   "collapsed_sections": [],
   "name": "split_data.ipynb",
   "provenance": []
  },
  "kernelspec": {
   "display_name": "Python 3 (ipykernel)",
   "language": "python",
   "name": "python3"
  },
  "language_info": {
   "codemirror_mode": {
    "name": "ipython",
    "version": 3
   },
   "file_extension": ".py",
   "mimetype": "text/x-python",
   "name": "python",
   "nbconvert_exporter": "python",
   "pygments_lexer": "ipython3",
   "version": "3.9.12"
  }
 },
 "nbformat": 4,
 "nbformat_minor": 1
}
